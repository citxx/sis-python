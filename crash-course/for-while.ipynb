{
 "cells": [
  {
   "cell_type": "markdown",
   "metadata": {},
   "source": [
    "# Циклы"
   ]
  },
  {
   "cell_type": "markdown",
   "metadata": {},
   "source": [
    "Очень часто случается, что нам надо повторить некоторые действия определенное число раз. Для этого в Python есть разные типы циклов."
   ]
  },
  {
   "cell_type": "markdown",
   "metadata": {},
   "source": [
    "## Цикл for"
   ]
  },
  {
   "cell_type": "markdown",
   "metadata": {},
   "source": [
    "Стандартный цикл со счётчиком выглядит так: `for переменная in range(start, end, step)`, где значение переменной будет проходить от `start`(включительно) до `end`(не включительно) с шагом `step`."
   ]
  },
  {
   "cell_type": "markdown",
   "metadata": {},
   "source": [
    "По умолчанию на каждой итерации цикла к значению переменной прибавляется 1, а счёт начинается c 0. Можно указать только до какого числа считать:"
   ]
  },
  {
   "cell_type": "code",
   "execution_count": 1,
   "metadata": {},
   "outputs": [
    {
     "name": "stdout",
     "output_type": "stream",
     "text": [
      "0\n",
      "1\n",
      "2\n",
      "3\n",
      "4\n"
     ]
    }
   ],
   "source": [
    "for i in range(5):\n",
    "    print(i)"
   ]
  },
  {
   "cell_type": "markdown",
   "metadata": {},
   "source": [
    "Можно указать диапазон чисел (как и везде в Python, левая граница включительно, правая — не включительно):"
   ]
  },
  {
   "cell_type": "code",
   "execution_count": 2,
   "metadata": {},
   "outputs": [
    {
     "name": "stdout",
     "output_type": "stream",
     "text": [
      "2\n",
      "3\n",
      "4\n"
     ]
    }
   ],
   "source": [
    "for i in range(2, 5):\n",
    "    print(i)"
   ]
  },
  {
   "cell_type": "markdown",
   "metadata": {},
   "source": [
    "Пример, в котором задаётся шаг, т.е. сколько прибавлять к переменной после каждой итерации цикла:"
   ]
  },
  {
   "cell_type": "code",
   "execution_count": 3,
   "metadata": {},
   "outputs": [
    {
     "name": "stdout",
     "output_type": "stream",
     "text": [
      "2\n",
      "5\n",
      "8\n"
     ]
    }
   ],
   "source": [
    "for i in range(2, 10, 3):\n",
    "    print(i)"
   ]
  },
  {
   "cell_type": "markdown",
   "metadata": {},
   "source": [
    "А что будет, если левая граница больше либо равна правой?"
   ]
  },
  {
   "cell_type": "code",
   "execution_count": 4,
   "metadata": {},
   "outputs": [],
   "source": [
    "for i in range(5, 2):\n",
    "    print(i)\n",
    "\n",
    "for i in range(2, 2):\n",
    "    print(i)\n",
    "    \n",
    "# В выводе ничего нет"
   ]
  },
  {
   "cell_type": "markdown",
   "metadata": {},
   "source": [
    "А если задать отрицательный шаг?"
   ]
  },
  {
   "cell_type": "code",
   "execution_count": 5,
   "metadata": {},
   "outputs": [
    {
     "name": "stdout",
     "output_type": "stream",
     "text": [
      "5\n",
      "4\n",
      "3\n"
     ]
    }
   ],
   "source": [
    "for i in range(5, 2, -1):\n",
    "    print(i)"
   ]
  },
  {
   "cell_type": "markdown",
   "metadata": {},
   "source": [
    "Обратите внимание, тут всё ещё левая граница включительно, правая — не включительно."
   ]
  },
  {
   "cell_type": "markdown",
   "metadata": {},
   "source": [
    "## Цикл while"
   ]
  },
  {
   "cell_type": "markdown",
   "metadata": {},
   "source": [
    "Самый просто устроенный цикл — `while`. Он работает точно так же как и в остальных языках программирования: пока условие верно, выполняй тело цикла."
   ]
  },
  {
   "cell_type": "code",
   "execution_count": 6,
   "metadata": {
    "scrolled": true
   },
   "outputs": [
    {
     "name": "stdout",
     "output_type": "stream",
     "text": [
      "1\n",
      "2\n",
      "3\n",
      "4\n",
      "5\n"
     ]
    }
   ],
   "source": [
    "i = 0\n",
    "while i < 5:\n",
    "    i += 1\n",
    "    print(i)"
   ]
  },
  {
   "cell_type": "markdown",
   "metadata": {},
   "source": [
    "Естественно, после `while` может стоять любое условие."
   ]
  },
  {
   "cell_type": "markdown",
   "metadata": {},
   "source": [
    "Для примера давайте напишем программу, которая выводит наименьшую степень двойки, которая больше заданного числа `n`."
   ]
  },
  {
   "cell_type": "code",
   "execution_count": 7,
   "metadata": {},
   "outputs": [
    {
     "name": "stdout",
     "output_type": "stream",
     "text": [
      "29\n",
      "29 < 32 = 2 ** 5\n"
     ]
    }
   ],
   "source": [
    "n = int(input())\n",
    "\n",
    "cp, i = 1, 0\n",
    "while n >= cp:\n",
    "    cp *= 2\n",
    "    i += 1\n",
    "\n",
    "print(n, \"<\", cp, \"= 2 **\", i)"
   ]
  },
  {
   "cell_type": "markdown",
   "metadata": {},
   "source": [
    "## Операторы break, continue"
   ]
  },
  {
   "cell_type": "markdown",
   "metadata": {},
   "source": [
    "Оператор `break` прерывает выполнение тела цикла и прерывает сам цикл:"
   ]
  },
  {
   "cell_type": "code",
   "execution_count": 8,
   "metadata": {},
   "outputs": [
    {
     "name": "stdout",
     "output_type": "stream",
     "text": [
      "before 0\n",
      "after 0\n",
      "before 1\n",
      "after 1\n",
      "before 2\n",
      "after while\n"
     ]
    }
   ],
   "source": [
    "i = 0\n",
    "while True:\n",
    "    print(\"before\", i)\n",
    "    if i == 2:\n",
    "        break\n",
    "    print(\"after\", i)\n",
    "    i += 1\n",
    "print(\"after while\")"
   ]
  },
  {
   "cell_type": "markdown",
   "metadata": {},
   "source": [
    "Оператор `continue` прерывает выполнение тела цикла, но сам цикл продолжает выполняться:"
   ]
  },
  {
   "cell_type": "code",
   "execution_count": 9,
   "metadata": {},
   "outputs": [
    {
     "name": "stdout",
     "output_type": "stream",
     "text": [
      "before 0\n",
      "after 0\n",
      "before 1\n",
      "before 2\n",
      "after while\n"
     ]
    }
   ],
   "source": [
    "i = 0\n",
    "while True:\n",
    "    print(\"before\", i)\n",
    "    if i == 1:\n",
    "        i += 1  # i должно поменяться, иначе цикл будет выполняться вечно\n",
    "        continue\n",
    "    if i == 2:\n",
    "        break\n",
    "    print(\"after\", i)\n",
    "    i += 1\n",
    "print(\"after while\")"
   ]
  },
  {
   "cell_type": "markdown",
   "metadata": {},
   "source": [
    "Те же самые операторы работают и для цикла `for`:"
   ]
  },
  {
   "cell_type": "code",
   "execution_count": 10,
   "metadata": {},
   "outputs": [
    {
     "name": "stdout",
     "output_type": "stream",
     "text": [
      "before 0\n",
      "after 0\n",
      "before 1\n",
      "before 2\n"
     ]
    }
   ],
   "source": [
    "for i in range(10):\n",
    "    print(\"before\", i)\n",
    "    if i == 1:\n",
    "        continue\n",
    "    if i == 2:\n",
    "        break\n",
    "    print(\"after\", i)"
   ]
  },
  {
   "cell_type": "markdown",
   "metadata": {},
   "source": [
    "В Python у цикла `for` также есть возможность написать ветку `else`. Это будет работать так: если цикл был завершен при помощи `break`, то ветка `else` выполнена не будет, в противном случае, после выполнения цикла она будет выполнена."
   ]
  },
  {
   "cell_type": "code",
   "execution_count": 11,
   "metadata": {},
   "outputs": [
    {
     "name": "stdout",
     "output_type": "stream",
     "text": [
      "1025\n",
      "a больше чем 1024\n"
     ]
    }
   ],
   "source": [
    "a = int(input())\n",
    "for i in range(11):\n",
    "    if a <= 2 ** i:\n",
    "        print(\"a не больше чем 2 в степени\", i)\n",
    "        break\n",
    "else:\n",
    "    print(\"a больше чем 1024\")"
   ]
  },
  {
   "cell_type": "markdown",
   "metadata": {},
   "source": [
    "Такая реализация иногда заметно проще, чем заводить отдельную переменную для флага или писать if...else."
   ]
  }
 ],
 "metadata": {
  "kernelspec": {
   "display_name": "Python 3",
   "language": "python",
   "name": "python3"
  },
  "language_info": {
   "codemirror_mode": {
    "name": "ipython",
    "version": 3
   },
   "file_extension": ".py",
   "mimetype": "text/x-python",
   "name": "python",
   "nbconvert_exporter": "python",
   "pygments_lexer": "ipython3",
   "version": "3.6.3"
  },
  "toc": {
   "base_numbering": 1,
   "nav_menu": {},
   "number_sections": false,
   "sideBar": true,
   "skip_h1_title": false,
   "title_cell": "Содержание",
   "title_sidebar": "Содержание",
   "toc_cell": false,
   "toc_position": {},
   "toc_section_display": true,
   "toc_window_display": true
  }
 },
 "nbformat": 4,
 "nbformat_minor": 2
}
