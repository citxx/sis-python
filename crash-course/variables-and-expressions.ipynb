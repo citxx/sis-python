{
 "cells": [
  {
   "cell_type": "markdown",
   "metadata": {},
   "source": [
    "# Переменные, выражения и простой ввод-вывод"
   ]
  },
  {
   "cell_type": "markdown",
   "metadata": {},
   "source": [
    "## Переменные"
   ]
  },
  {
   "cell_type": "markdown",
   "metadata": {},
   "source": [
    "Как и в любом другом языке программирования, в Python есть переменные. Присвоить переменной значение можно так:"
   ]
  },
  {
   "cell_type": "code",
   "execution_count": 2,
   "metadata": {
    "collapsed": false
   },
   "outputs": [
    {
     "name": "stdout",
     "output_type": "stream",
     "text": [
      "5\n",
      "Hello, LKSH\n",
      "5.0\n"
     ]
    }
   ],
   "source": [
    "a = 5\n",
    "b = \"Hello, LKSH\"\n",
    "c = 5.0\n",
    "print(a)\n",
    "print(b)\n",
    "print(c)"
   ]
  },
  {
   "cell_type": "markdown",
   "metadata": {},
   "source": [
    "Вы могли заметить, что мы нигде не объявили тип переменных `a`, `b` и `c`. В Python этого делать не надо. Язык сам выберет тип по значению, которое вы положили в переменную. Для переменной `a` это тип `int` (целое число). Для `b`&nbsp;— `str` (строка). Для `c`&nbsp;— `float` (вещественное число)."
   ]
  },
  {
   "cell_type": "markdown",
   "metadata": {},
   "source": [
    "## Ввод-вывод"
   ]
  },
  {
   "cell_type": "markdown",
   "metadata": {},
   "source": [
    "Как вы уже видели, для вывода на экран в Python есть функция `print`. Ей можно передавать несколько значений через запятую — они будут выведены в одной строке через пробел:"
   ]
  },
  {
   "cell_type": "code",
   "execution_count": 3,
   "metadata": {
    "collapsed": false
   },
   "outputs": [
    {
     "name": "stdout",
     "output_type": "stream",
     "text": [
      "2 + 3 = 5\n"
     ]
    }
   ],
   "source": [
    "a = 2\n",
    "b = 3\n",
    "print(a, \"+\", b, \"=\", a + b)"
   ]
  },
  {
   "cell_type": "markdown",
   "metadata": {},
   "source": [
    "Для ввода с клавиатуры есть функция `input`. Она считывает одну строку целиком:"
   ]
  },
  {
   "cell_type": "code",
   "execution_count": 4,
   "metadata": {
    "collapsed": false
   },
   "outputs": [
    {
     "name": "stdout",
     "output_type": "stream",
     "text": [
      "2\n",
      "3\n",
      "23\n"
     ]
    }
   ],
   "source": [
    "a = input()\n",
    "b = input()\n",
    "print(a + b)"
   ]
  },
  {
   "cell_type": "markdown",
   "metadata": {},
   "source": [
    "Ага, что-то пошло не так! Мы получили **23** вместо **5**. Так произошло, потому что `input()` возращает строку (`str`), а не число (`int`). Чтобы это исправить нам надо явно преобразовать результат функции `input()` к типу `int`."
   ]
  },
  {
   "cell_type": "code",
   "execution_count": 5,
   "metadata": {
    "collapsed": false
   },
   "outputs": [
    {
     "name": "stdout",
     "output_type": "stream",
     "text": [
      "2\n",
      "3\n",
      "5\n"
     ]
    }
   ],
   "source": [
    "a = int(input())\n",
    "b = int(input())\n",
    "print(a + b)"
   ]
  },
  {
   "cell_type": "markdown",
   "metadata": {},
   "source": [
    "Так-то лучше :)\n",
    "\n",
    "**Частая ошибка** — забыть внутренние скобки после функции `input`. Давайте посмотрим, что в этом случае произойдёт:"
   ]
  },
  {
   "cell_type": "code",
   "execution_count": 6,
   "metadata": {
    "collapsed": false
   },
   "outputs": [
    {
     "ename": "TypeError",
     "evalue": "int() argument must be a string, a bytes-like object or a number, not 'method'",
     "output_type": "error",
     "traceback": [
      "\u001b[0;31m---------------------------------------------------------------------------\u001b[0m",
      "\u001b[0;31mTypeError\u001b[0m                                 Traceback (most recent call last)",
      "\u001b[0;32m<ipython-input-6-4374d682a371>\u001b[0m in \u001b[0;36m<module>\u001b[0;34m()\u001b[0m\n\u001b[0;32m----> 1\u001b[0;31m \u001b[0ma\u001b[0m \u001b[0;34m=\u001b[0m \u001b[0mint\u001b[0m\u001b[0;34m(\u001b[0m\u001b[0minput\u001b[0m\u001b[0;34m)\u001b[0m\u001b[0;34m\u001b[0m\u001b[0m\n\u001b[0m\u001b[1;32m      2\u001b[0m \u001b[0mb\u001b[0m \u001b[0;34m=\u001b[0m \u001b[0mint\u001b[0m\u001b[0;34m(\u001b[0m\u001b[0minput\u001b[0m\u001b[0;34m)\u001b[0m\u001b[0;34m\u001b[0m\u001b[0m\n\u001b[1;32m      3\u001b[0m \u001b[0mprint\u001b[0m\u001b[0;34m(\u001b[0m\u001b[0ma\u001b[0m \u001b[0;34m+\u001b[0m \u001b[0mb\u001b[0m\u001b[0;34m)\u001b[0m\u001b[0;34m\u001b[0m\u001b[0m\n",
      "\u001b[0;31mTypeError\u001b[0m: int() argument must be a string, a bytes-like object or a number, not 'method'"
     ]
    }
   ],
   "source": [
    "a = int(input)\n",
    "b = int(input)\n",
    "print(a + b)"
   ]
  },
  {
   "cell_type": "markdown",
   "metadata": {},
   "source": [
    "Эту ошибку можно перевести с английского так:\n",
    "    \n",
    "```\n",
    "ОшибкаТипа: аргумент функции int() должен быть строкой, последовательностью байтов или числом, а не \n",
    "функцией\n",
    "```\n",
    "\n",
    "Теперь вы знаете что делать, если получите такую ошибку ;)"
   ]
  },
  {
   "cell_type": "markdown",
   "metadata": {},
   "source": [
    "## Арифметические операции"
   ]
  },
  {
   "cell_type": "markdown",
   "metadata": {},
   "source": [
    "Давайте научимся складывать, умножать, вычитать и производить другие операции с целыми (тип `int`) или вещественными (тип `float`) числами. Стоит понимать, что целое число и вещественное число — это совсем разные вещи для компьютера.\n",
    "\n",
    "Список основных *бинарных* (требующих 2 переменных) арифметических действий, которые вам понадобятся:\n",
    "\n",
    "| Действие | Обозначение в Python | Аналог в C++ | Аналог в Pascal | Приоритет |\n",
    "| --- | --- | --- | --- | --- |\n",
    "| Сложение | `a + b` | `a + b` | `a + b` | 3 |\n",
    "| Вычитание | `a - b` | `a - b` | `a - b` | 3 |\n",
    "| Умножение | `a * b` | `a * b` | `a * b` | 3 |\n",
    "| Вещественное деление | `a / b` | `a / b` | `a / b` | 2 |\n",
    "| Целочисленное деление (с округлением вниз) | `a // b` | `a / b` | `a div b` | 2 |\n",
    "| Остаток от деления | `a % b` | `a % b` | `a mod b` | 2 |\n",
    "| Возведение в степень | `a ** b` | `pow(a, b)` | `power(a, b)` | 1 |\n",
    "\n",
    "**Сложение**, **вычитание** и **умножение** работают точно также, как и в других языках:"
   ]
  },
  {
   "cell_type": "code",
   "execution_count": null,
   "metadata": {
    "collapsed": false
   },
   "outputs": [],
   "source": [
    "print(11 + 7, 11 - 7, 11 * 7, (2 + 9) * (12 - 5))"
   ]
  },
  {
   "cell_type": "markdown",
   "metadata": {},
   "source": [
    "**Вещественное деление** всегда даёт вещественное число (`float`) в результате, независимо от аргументов:"
   ]
  },
  {
   "cell_type": "code",
   "execution_count": null,
   "metadata": {
    "collapsed": false
   },
   "outputs": [],
   "source": [
    "print(12 / 8, 12 / 4, 12 / -7)"
   ]
  },
  {
   "cell_type": "markdown",
   "metadata": {},
   "source": [
    "Результат **целочисленного деления** — это результат вещественного деления, округлённый до *ближайшего меньшего целого*:"
   ]
  },
  {
   "cell_type": "code",
   "execution_count": null,
   "metadata": {
    "collapsed": false
   },
   "outputs": [],
   "source": [
    "print(12 // 8, 12 // 4, 12 // -7)"
   ]
  },
  {
   "cell_type": "markdown",
   "metadata": {},
   "source": [
    "**Остаток от деления** — это то что осталось от числа после целочисленного деления.\n",
    "\n",
    "Если `c = a // b`, то `a` можно представить в виде `a = c * b + r`. В этом случае `r` — это остаток от деления.\n",
    "\n",
    "Пример: `a = 20`, `b = 8`, `c = a // b = 2`. Тогда `a = c * b + r` превратится в `20 = 2 * 8 + 4`. Остаток от деления — `4`."
   ]
  },
  {
   "cell_type": "code",
   "execution_count": null,
   "metadata": {
    "collapsed": false
   },
   "outputs": [],
   "source": [
    "print(12 % 8, 12 % 4, 12 % -7)"
   ]
  },
  {
   "cell_type": "markdown",
   "metadata": {},
   "source": [
    "**Возведение `a` в степень `b`** — это перемножение `a` на само себя `b` раз. В математике обозначается как $a^b$."
   ]
  },
  {
   "cell_type": "code",
   "execution_count": null,
   "metadata": {
    "collapsed": false
   },
   "outputs": [],
   "source": [
    "print(5 ** 2, 2 ** 4, 13 ** 0)"
   ]
  },
  {
   "cell_type": "markdown",
   "metadata": {},
   "source": [
    "Возведение в степень работает для вещественных `a` и отрицательных `b`. Число в отрицательной степени — это единица делённое на то же число в положительной степени: $a^{-b} = \\frac{1}{a^b}$"
   ]
  },
  {
   "cell_type": "code",
   "execution_count": null,
   "metadata": {
    "collapsed": false
   },
   "outputs": [],
   "source": [
    "print(2.5 ** 2, 2 ** -3)"
   ]
  },
  {
   "cell_type": "markdown",
   "metadata": {},
   "source": [
    "Давайте посмотрим что получится, если возвести в большую степень целое число:"
   ]
  },
  {
   "cell_type": "code",
   "execution_count": null,
   "metadata": {
    "collapsed": false
   },
   "outputs": [],
   "source": [
    "print(5 ** 100)"
   ]
  },
  {
   "cell_type": "markdown",
   "metadata": {},
   "source": [
    "В отличии от C++ или Pascal, Python правильно считает результат, даже если в результате получается очень большое число.\n",
    "\n",
    "А что если возвести вещественное число в большую степень?"
   ]
  },
  {
   "cell_type": "code",
   "execution_count": null,
   "metadata": {
    "collapsed": false
   },
   "outputs": [],
   "source": [
    "print(5.0 ** 100)"
   ]
  },
  {
   "cell_type": "markdown",
   "metadata": {},
   "source": [
    "Запись вида `<число>e<степень>` — это другой способ записать $\\text{<число>} \\cdot 10^\\text{<степень>}$. То есть:\n",
    "\n",
    "$$\\text{7.888609052210118e+69} = 7.888609052210118 \\cdot 10^{69}$$\n",
    "\n",
    "а это то же самое, что и 7888609052210118000000000000000000000000000000000000000000000000000000.\n",
    "\n",
    "Этот результат не настолько точен, как предыдущий. Так происходит потому, что для хранения каждого вещественного числа Python использует фиксированное количество памяти, а значит может хранить число только с ограниченной точностью."
   ]
  },
  {
   "cell_type": "markdown",
   "metadata": {},
   "source": [
    "Возведение в степень также работает и для вещественной степени. Например $\\sqrt{a} = a^\\frac{1}{2} = a^{0.5}$"
   ]
  },
  {
   "cell_type": "code",
   "execution_count": null,
   "metadata": {
    "collapsed": false
   },
   "outputs": [],
   "source": [
    "print(2 ** 0.5, 9 ** 0.5)"
   ]
  },
  {
   "cell_type": "markdown",
   "metadata": {},
   "source": [
    "В школе вам, наверное, рассказывали, что квадратный корень нельзя извлекать из отрицательных чисел. С++ и Pascal при попытке сделать это выдадут ошибку. Давайте посмотрим, что сделает Python:"
   ]
  },
  {
   "cell_type": "code",
   "execution_count": null,
   "metadata": {
    "collapsed": false
   },
   "outputs": [],
   "source": [
    "print((-4) ** 0.5)"
   ]
  },
  {
   "cell_type": "markdown",
   "metadata": {},
   "source": [
    "В общем, это не совсем правда. Извлекать квадратный корень из отрицательных чисел, всё-таки, можно, но в результате получится не **вещественное**, а так называемое **комплексное** число. Если вы получили страшную такую штуку в своей программе, скорее всего ваш код взял корень из отрицательного числа, а значит вам надо искать в нём ошибку. В ближайшее время вам нет необходимости что-то знать про комплексные числа."
   ]
  },
  {
   "cell_type": "markdown",
   "metadata": {},
   "source": [
    "## Арифметические выражения"
   ]
  },
  {
   "cell_type": "markdown",
   "metadata": {},
   "source": [
    "Естественно, как и во многих других языках программирования, вы можете составлять большие выражения из переменных, чисел, арифметических операций и скобок. Например:"
   ]
  },
  {
   "cell_type": "code",
   "execution_count": null,
   "metadata": {
    "collapsed": false
   },
   "outputs": [],
   "source": [
    "a = 4\n",
    "b = 11\n",
    "c = (a ** 2 + b * 3) / (9 - b % (a + 1))\n",
    "print(c)"
   ]
  },
  {
   "cell_type": "markdown",
   "metadata": {},
   "source": [
    "В примере выше переменной `c` присвоено значение выражения\n",
    "\n",
    "$$\\frac{a^2 + b \\cdot 3}{9 - b \\text{ mod } (a + 1)}$$\n",
    "\n",
    "При отсутствии скобок арфиметические операции в выражении вычисляются в порядке приоритета (см. таблицу выше). Сначала выполняются операции с приоритетом 1, потом с приоритетом 2 и т.д. При одинаковом приоритете вычисление происходит слева направо. Вы можете использовать скобки, чтобы менять порядок вычисления."
   ]
  },
  {
   "cell_type": "code",
   "execution_count": null,
   "metadata": {
    "collapsed": false
   },
   "outputs": [],
   "source": [
    "print(2 * 2 + 2)\n",
    "print(2 * (2 + 2))"
   ]
  }
 ],
 "metadata": {
  "kernelspec": {
   "display_name": "Python 3",
   "language": "python",
   "name": "python3"
  },
  "language_info": {
   "codemirror_mode": {
    "name": "ipython",
    "version": 3
   },
   "file_extension": ".py",
   "mimetype": "text/x-python",
   "name": "python",
   "nbconvert_exporter": "python",
   "pygments_lexer": "ipython3",
   "version": "3.5.2"
  }
 },
 "nbformat": 4,
 "nbformat_minor": 1
}
