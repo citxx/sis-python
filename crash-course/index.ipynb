{
 "cells": [
  {
   "cell_type": "markdown",
   "metadata": {
    "toc": true
   },
   "source": [
    "<h1>Курс Python<span class=\"tocSkip\"></span></h1>\n",
    "<div class=\"toc\"><ul class=\"toc-item\"></ul></div>"
   ]
  },
  {
   "cell_type": "markdown",
   "metadata": {},
   "source": [
    "- [Hello, world!](hello-world.html)\n",
    "- [Переменные и выражения](variables-and-expressions.html)\n",
    "- [Стиль программирования](code-style.html)\n",
    "- [Условный оператор и логические выражения](if-and-logical-expressions.html)\n",
    "- [Циклы](loops.html)\n",
    "- [Работа со строками](strings.html)\n",
    "- [Списки](lists.html)\n",
    "- [Продвинутый ввод-вывод](advanced-io.html)\n",
    "- [Срезы](slices.html)\n",
    "- [Генераторы списков](generators.html)\n",
    "- [Функции](functions.html)\n",
    "- [Встроенная сортировка](builtin-sort.html)\n",
    "- [Двумерные списки](2d-arrays.html)\n",
    "- [Время работы операций в контейнерах](containers.html)"
   ]
  }
 ],
 "metadata": {
  "kernelspec": {
   "display_name": "Python 3",
   "language": "python",
   "name": "python3"
  },
  "language_info": {
   "codemirror_mode": {
    "name": "ipython",
    "version": 3
   },
   "file_extension": ".py",
   "mimetype": "text/x-python",
   "name": "python",
   "nbconvert_exporter": "python",
   "pygments_lexer": "ipython3",
   "version": "3.6.3"
  },
  "toc": {
   "base_numbering": 1,
   "nav_menu": {},
   "number_sections": false,
   "sideBar": true,
   "skip_h1_title": true,
   "title_cell": "Курс Python",
   "title_sidebar": "Курс Python",
   "toc_cell": true,
   "toc_position": {},
   "toc_section_display": true,
   "toc_window_display": false
  }
 },
 "nbformat": 4,
 "nbformat_minor": 1
}
