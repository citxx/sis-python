{
 "cells": [
  {
   "cell_type": "markdown",
   "metadata": {
    "toc": true
   },
   "source": [
    "<h1>Содержание<span class=\"tocSkip\"></span></h1>\n",
    "<div class=\"toc\"><ul class=\"toc-item\"><li><span><a href=\"#Объявление-функции\" data-toc-modified-id=\"Объявление-функции-1\">Объявление функции</a></span></li><li><span><a href=\"#Вызов-функции\" data-toc-modified-id=\"Вызов-функции-2\">Вызов функции</a></span></li><li><span><a href=\"#Тип-возвращаемого-значения\" data-toc-modified-id=\"Тип-возвращаемого-значения-3\">Тип возвращаемого значения</a></span></li><li><span><a href=\"#Виды-параметров\" data-toc-modified-id=\"Виды-параметров-4\">Виды параметров</a></span><ul class=\"toc-item\"><li><span><a href=\"#Формальные-и-фактические\" data-toc-modified-id=\"Формальные-и-фактические-4.1\">Формальные и фактические</a></span></li><li><span><a href=\"#По-умолчанию\" data-toc-modified-id=\"По-умолчанию-4.2\">По умолчанию</a></span></li><li><span><a href=\"#Именованые\" data-toc-modified-id=\"Именованые-4.3\">Именованые</a></span></li><li><span><a href=\"#Произвольное-количество\" data-toc-modified-id=\"Произвольное-количество-4.4\">Произвольное количество</a></span></li></ul></li><li><span><a href=\"#Области-видимости\" data-toc-modified-id=\"Области-видимости-5\">Области видимости</a></span><ul class=\"toc-item\"><li><span><a href=\"#global\" data-toc-modified-id=\"global-5.1\">global</a></span></li></ul></li></ul></div>"
   ]
  },
  {
   "cell_type": "markdown",
   "metadata": {},
   "source": [
    "# Функции"
   ]
  },
  {
   "cell_type": "markdown",
   "metadata": {},
   "source": [
    "**Функция** — часть программы, реализация которой выполняется отдельно. Обычно часть кода выделяют в функции, если один и тот же кусок кода нужно повторить несколько раз с разными значениями переменных. Примеры встроенных в Python функций: `input()`, `print()`, `sum()`. Можно и нужно писать свои функции."
   ]
  },
  {
   "cell_type": "markdown",
   "metadata": {},
   "source": [
    "Функция состоит из:\n",
    "\n",
    "* Названия — отражает то, что функция должна делать.\n",
    "* Списка аргументов (параметров) — то, с чем это делать.\n",
    "* Тела функции — что она делает на самом деле.\n",
    "* Результата (возвращаемого значения) — то, что она сделала."
   ]
  },
  {
   "cell_type": "markdown",
   "metadata": {},
   "source": [
    "## Объявление функции"
   ]
  },
  {
   "cell_type": "markdown",
   "metadata": {},
   "source": [
    "`def название(параметры):\n",
    "    тело функции\n",
    "    return результат`"
   ]
  },
  {
   "cell_type": "markdown",
   "metadata": {},
   "source": [
    "Ключевое слово `return` пишется, если нужен результат вычислений. Если не нужен результат, только побочные эффекты, то можно не писать `return`."
   ]
  },
  {
   "cell_type": "markdown",
   "metadata": {},
   "source": [
    "Пример с побочным эффектом:"
   ]
  },
  {
   "cell_type": "code",
   "execution_count": 1,
   "metadata": {
    "collapsed": true
   },
   "outputs": [],
   "source": [
    "def print_sum(a, b):\n",
    "    print(a + b)"
   ]
  },
  {
   "cell_type": "markdown",
   "metadata": {},
   "source": [
    "Пример с возвращаемым значением:"
   ]
  },
  {
   "cell_type": "code",
   "execution_count": 2,
   "metadata": {
    "collapsed": true
   },
   "outputs": [],
   "source": [
    "def get_sum(a, b):\n",
    "    return a + b"
   ]
  },
  {
   "cell_type": "markdown",
   "metadata": {},
   "source": [
    "Писать функции с возвращаемым значением предпочтительнее."
   ]
  },
  {
   "cell_type": "markdown",
   "metadata": {},
   "source": [
    "## Вызов функции"
   ]
  },
  {
   "cell_type": "markdown",
   "metadata": {},
   "source": [
    "Параметры при вызове функции можно задавать явно:"
   ]
  },
  {
   "cell_type": "code",
   "execution_count": 3,
   "metadata": {
    "collapsed": false,
    "scrolled": true
   },
   "outputs": [
    {
     "name": "stdout",
     "output_type": "stream",
     "text": [
      "12\n"
     ]
    }
   ],
   "source": [
    "print_sum(5, 7)"
   ]
  },
  {
   "cell_type": "markdown",
   "metadata": {},
   "source": [
    "Переменные тоже могут быть параметрами при вызове функции:"
   ]
  },
  {
   "cell_type": "code",
   "execution_count": 4,
   "metadata": {
    "collapsed": false
   },
   "outputs": [
    {
     "name": "stdout",
     "output_type": "stream",
     "text": [
      "15\n",
      "8\n"
     ]
    }
   ],
   "source": [
    "a, b = 7, 8\n",
    "print_sum(a, b)\n",
    "print_sum(a, 1)"
   ]
  },
  {
   "cell_type": "markdown",
   "metadata": {},
   "source": [
    "Если у функции есть возвращаемое значение, то стоит его запомнить в переменную или хотя бы вывести."
   ]
  },
  {
   "cell_type": "code",
   "execution_count": 5,
   "metadata": {
    "collapsed": false
   },
   "outputs": [
    {
     "name": "stdout",
     "output_type": "stream",
     "text": [
      "5\n",
      "5\n"
     ]
    },
    {
     "data": {
      "text/plain": [
       "3"
      ]
     },
     "execution_count": 5,
     "metadata": {},
     "output_type": "execute_result"
    }
   ],
   "source": [
    "print(get_sum(2, 3))\n",
    "\n",
    "a = get_sum(1, 4)\n",
    "print(a)\n",
    "\n",
    "get_sum(1, 2)  # У этой строчки нет эффекта. Результат посчитан, но не запомнен."
   ]
  },
  {
   "cell_type": "markdown",
   "metadata": {},
   "source": [
    "Можно даже писать внутри одного вызова функции вызов другой функции. Тогда сначала выполнится внутренний вызов и посчитается результат, затем внешний вызов."
   ]
  },
  {
   "cell_type": "code",
   "execution_count": 6,
   "metadata": {
    "collapsed": false
   },
   "outputs": [
    {
     "name": "stdout",
     "output_type": "stream",
     "text": [
      "16 20\n"
     ]
    }
   ],
   "source": [
    "a = 15\n",
    "x = get_sum(1, a)\n",
    "y = get_sum(x, get_sum(2, 2))\n",
    "print(x, y)"
   ]
  },
  {
   "cell_type": "markdown",
   "metadata": {},
   "source": [
    "## Тип возвращаемого значения"
   ]
  },
  {
   "cell_type": "markdown",
   "metadata": {},
   "source": [
    "У возвращаемого значения может быть любой тип. Например, в данной функции у результата логический тип:"
   ]
  },
  {
   "cell_type": "code",
   "execution_count": 7,
   "metadata": {
    "collapsed": false
   },
   "outputs": [
    {
     "name": "stdout",
     "output_type": "stream",
     "text": [
      "True\n"
     ]
    }
   ],
   "source": [
    "def is_leap(year):\n",
    "    return year % 4 == 0 and year % 100 != 0 or year % 400 == 0\n",
    "\n",
    "\n",
    "print(is_leap(2012))"
   ]
  },
  {
   "cell_type": "markdown",
   "metadata": {},
   "source": [
    "Тип `float`:"
   ]
  },
  {
   "cell_type": "code",
   "execution_count": 8,
   "metadata": {
    "collapsed": false,
    "scrolled": true
   },
   "outputs": [
    {
     "name": "stdout",
     "output_type": "stream",
     "text": [
      "6.0\n",
      "5.5\n"
     ]
    }
   ],
   "source": [
    "def mean(a, b):\n",
    "    return (a + b) / 2\n",
    "\n",
    "\n",
    "print(mean(6, 6))\n",
    "print(mean(5, 6))"
   ]
  },
  {
   "cell_type": "markdown",
   "metadata": {},
   "source": [
    "В случае функции с побочным эффектом без возвращаемого значения Python всё равно вернёт специальное значение: `None`, которое означает, что значение отсутствует. Но так писать не надо, нет результата — значит нет, не нужно пытаться его достать."
   ]
  },
  {
   "cell_type": "code",
   "execution_count": 9,
   "metadata": {
    "collapsed": false
   },
   "outputs": [
    {
     "name": "stdout",
     "output_type": "stream",
     "text": [
      "Some effect\n",
      "None\n",
      "Some effect\n"
     ]
    }
   ],
   "source": [
    "def print_effect():\n",
    "    print(\"Some effect\")\n",
    "\n",
    "\n",
    "result = print_effect()\n",
    "print(result)\n",
    "\n",
    "print_effect()  # Правильно так"
   ]
  },
  {
   "cell_type": "markdown",
   "metadata": {},
   "source": [
    "## Виды параметров"
   ]
  },
  {
   "cell_type": "markdown",
   "metadata": {},
   "source": [
    "### Формальные и фактические"
   ]
  },
  {
   "cell_type": "markdown",
   "metadata": {},
   "source": [
    "Формальные параметры — это имена аргументов функции, за которыми могут скрываться произвольные значения.\n",
    "\n",
    "Фактические параметры — это конкретные значения, которые связываются с формальными параметрами при вызове функции."
   ]
  },
  {
   "cell_type": "code",
   "execution_count": 1,
   "metadata": {
    "collapsed": true
   },
   "outputs": [],
   "source": [
    "def add_to_list(lst, i, delta):  # lst, i, delta - формальные параметры\n",
    "    lst[i] += delta\n",
    "    \n",
    "a = [1, 2, 3]\n",
    "x = 4\n",
    "add_to_list(a, 1, x)  # [1, 2, 3], 1, 4 - фактические параметры"
   ]
  },
  {
   "cell_type": "markdown",
   "metadata": {},
   "source": [
    "### По умолчанию"
   ]
  },
  {
   "cell_type": "markdown",
   "metadata": {},
   "source": [
    "Для любого параметра можно указать значение по умолчанию, которое будет использовано, если параметр не передан явно."
   ]
  },
  {
   "cell_type": "code",
   "execution_count": 3,
   "metadata": {
    "collapsed": false
   },
   "outputs": [
    {
     "name": "stdout",
     "output_type": "stream",
     "text": [
      "8\n",
      "4\n"
     ]
    }
   ],
   "source": [
    "def inc(a, b=1): \n",
    "    return a + b\n",
    "\n",
    "print(inc(3, 5))\n",
    "\n",
    "# b - необязательный параметр\n",
    "print(inc(3))"
   ]
  },
  {
   "cell_type": "markdown",
   "metadata": {},
   "source": [
    "### Именованые"
   ]
  },
  {
   "cell_type": "markdown",
   "metadata": {},
   "source": [
    "Любой параметр можно передать, явно указав имя:"
   ]
  },
  {
   "cell_type": "code",
   "execution_count": 7,
   "metadata": {
    "collapsed": false
   },
   "outputs": [
    {
     "name": "stdout",
     "output_type": "stream",
     "text": [
      "7\n",
      "7\n",
      "7\n"
     ]
    }
   ],
   "source": [
    "# Эти три вызова функции эквивалентны\n",
    "print(inc(2, b=5))\n",
    "print(inc(a=2, b=5))\n",
    "print(inc(b=5, a=2))"
   ]
  },
  {
   "cell_type": "code",
   "execution_count": 11,
   "metadata": {
    "collapsed": false
   },
   "outputs": [
    {
     "name": "stdout",
     "output_type": "stream",
     "text": [
      "1 | 2 | 3 !"
     ]
    }
   ],
   "source": [
    "# Параметры sep, end и file у функции print - это именованые параметры со значением по умолчанию\n",
    "print(1, 2, 3, sep=\" | \", end=\" !\")"
   ]
  },
  {
   "cell_type": "code",
   "execution_count": null,
   "metadata": {
    "collapsed": true
   },
   "outputs": [],
   "source": [
    "def smth(a, b=2, c=3, d=4): \n",
    "    print(a, b, c, d) \n",
    "    \n",
    "# Правильно \n",
    "smth(1) \n",
    "smth(c=5, a=3) \n",
    "smth(3, c=5) \n",
    "smth(1, 3, 5) \n",
    " \n",
    "# Неправильно \n",
    "smth()  # пропущен требуемый аргумент \n",
    "smth(a=5, 1000)  # позиционный параметр вслед за именованным \n",
    "smth(10, a=20)     # повторное значение параметра \n",
    "smth(arg=100500)  # неизвестное имя параметра "
   ]
  },
  {
   "cell_type": "markdown",
   "metadata": {},
   "source": [
    "### Произвольное количество"
   ]
  },
  {
   "cell_type": "code",
   "execution_count": 14,
   "metadata": {
    "collapsed": false
   },
   "outputs": [
    {
     "name": "stdout",
     "output_type": "stream",
     "text": [
      "1\n",
      "6\n",
      "63\n"
     ]
    }
   ],
   "source": [
    "def sum(*args):  # args - это список аргументов функции \n",
    "    result = 0 \n",
    "    for x in args: \n",
    "        result += x \n",
    "    return result \n",
    " \n",
    "print(sum(1))  # args = [1]\n",
    "print(sum(1, 2, 3))  # args = [1, 2, 3]\n",
    "\n",
    "lst = [1, 2, 4, 8, 16, 32] \n",
    "print(sum(*lst))  # args = [1, 2, 4, 8, 16, 32]"
   ]
  },
  {
   "cell_type": "markdown",
   "metadata": {},
   "source": [
    "## Области видимости"
   ]
  },
  {
   "cell_type": "markdown",
   "metadata": {},
   "source": [
    "Область видимости — это изолированная часть программы со своим набором переменных.\n",
    "\n",
    "Все переменные, объявленные в основной программе находятся в **глобальной области видимости**.\n",
    "\n",
    "При каждом вызове функции создаётся новая **локальная область видимости**."
   ]
  },
  {
   "cell_type": "code",
   "execution_count": 16,
   "metadata": {
    "collapsed": false
   },
   "outputs": [
    {
     "name": "stdout",
     "output_type": "stream",
     "text": [
      "7\n",
      "13\n"
     ]
    }
   ],
   "source": [
    "# При каждом вызове функции fib создаётся локальная область видимости с переменными n, a, b и i\n",
    "def fib(n):\n",
    "    a, b = 0, 1\n",
    "    for i in range(n):\n",
    "        a, b = b, a + b\n",
    "    return a\n",
    "\n",
    "# Глобальная область видимости содержит переменную k\n",
    "k = int(input())\n",
    "print(fib(k))"
   ]
  },
  {
   "cell_type": "code",
   "execution_count": 17,
   "metadata": {
    "collapsed": false
   },
   "outputs": [
    {
     "name": "stdout",
     "output_type": "stream",
     "text": [
      "11\n"
     ]
    }
   ],
   "source": [
    "# При отсутствии переменной в локальной области видимости, используется такая же переменная из глобальной\n",
    "def f(a):\n",
    "    return a + b\n",
    "\n",
    "b = 4\n",
    "print(f(7))"
   ]
  },
  {
   "cell_type": "code",
   "execution_count": 24,
   "metadata": {
    "collapsed": false
   },
   "outputs": [
    {
     "name": "stdout",
     "output_type": "stream",
     "text": [
      "Only local\n"
     ]
    },
    {
     "ename": "NameError",
     "evalue": "name 'local_var' is not defined",
     "output_type": "error",
     "traceback": [
      "\u001b[0;31m---------------------------------------------------------------------------\u001b[0m",
      "\u001b[0;31mNameError\u001b[0m                                 Traceback (most recent call last)",
      "\u001b[0;32m<ipython-input-24-c2e1bbb7f483>\u001b[0m in \u001b[0;36m<module>\u001b[0;34m()\u001b[0m\n\u001b[1;32m      5\u001b[0m \u001b[0;34m\u001b[0m\u001b[0m\n\u001b[1;32m      6\u001b[0m \u001b[0mf\u001b[0m\u001b[0;34m(\u001b[0m\u001b[0;34m)\u001b[0m\u001b[0;34m\u001b[0m\u001b[0m\n\u001b[0;32m----> 7\u001b[0;31m \u001b[0mprint\u001b[0m\u001b[0;34m(\u001b[0m\u001b[0mlocal_var\u001b[0m\u001b[0;34m)\u001b[0m\u001b[0;34m\u001b[0m\u001b[0m\n\u001b[0m",
      "\u001b[0;31mNameError\u001b[0m: name 'local_var' is not defined"
     ]
    }
   ],
   "source": [
    "# Ошибка. Локальная переменная неизвестна после окончания функции \n",
    "def f():\n",
    "    local_var = \"Only local\"\n",
    "    print(local_var)\n",
    "\n",
    "f()\n",
    "print(local_var)"
   ]
  },
  {
   "cell_type": "markdown",
   "metadata": {},
   "source": [
    "### global"
   ]
  },
  {
   "cell_type": "markdown",
   "metadata": {},
   "source": [
    "Ключевое слово global говорит не создавать локальную переменную и изменять вместо этого глобальную."
   ]
  },
  {
   "cell_type": "code",
   "execution_count": 19,
   "metadata": {
    "collapsed": false
   },
   "outputs": [
    {
     "name": "stdout",
     "output_type": "stream",
     "text": [
      "21\n"
     ]
    }
   ],
   "source": [
    "accumulator = 0\n",
    "\n",
    "def accumulate(x):\n",
    "    global accumulator\n",
    "    accumulator += x\n",
    "    \n",
    "accumulate(8)\n",
    "accumulate(13)\n",
    "print(accumulator)"
   ]
  },
  {
   "cell_type": "code",
   "execution_count": 22,
   "metadata": {
    "collapsed": false
   },
   "outputs": [
    {
     "ename": "UnboundLocalError",
     "evalue": "local variable 's' referenced before assignment",
     "output_type": "error",
     "traceback": [
      "\u001b[0;31m---------------------------------------------------------------------------\u001b[0m",
      "\u001b[0;31mUnboundLocalError\u001b[0m                         Traceback (most recent call last)",
      "\u001b[0;32m<ipython-input-22-121980ba034d>\u001b[0m in \u001b[0;36m<module>\u001b[0;34m()\u001b[0m\n\u001b[1;32m      6\u001b[0m \u001b[0;34m\u001b[0m\u001b[0m\n\u001b[1;32m      7\u001b[0m \u001b[0ms\u001b[0m \u001b[0;34m=\u001b[0m \u001b[0;34m\"Global variable\"\u001b[0m\u001b[0;34m\u001b[0m\u001b[0m\n\u001b[0;32m----> 8\u001b[0;31m \u001b[0mf\u001b[0m\u001b[0;34m(\u001b[0m\u001b[0;34m)\u001b[0m\u001b[0;34m\u001b[0m\u001b[0m\n\u001b[0m",
      "\u001b[0;32m<ipython-input-22-121980ba034d>\u001b[0m in \u001b[0;36mf\u001b[0;34m()\u001b[0m\n\u001b[1;32m      1\u001b[0m \u001b[0;31m# Ошибка. Попытка использовать глобальную переменную перед созданием локальной\u001b[0m\u001b[0;34m\u001b[0m\u001b[0;34m\u001b[0m\u001b[0m\n\u001b[1;32m      2\u001b[0m \u001b[0;32mdef\u001b[0m \u001b[0mf\u001b[0m\u001b[0;34m(\u001b[0m\u001b[0;34m)\u001b[0m\u001b[0;34m:\u001b[0m\u001b[0;34m\u001b[0m\u001b[0m\n\u001b[0;32m----> 3\u001b[0;31m     \u001b[0mprint\u001b[0m\u001b[0;34m(\u001b[0m\u001b[0ms\u001b[0m\u001b[0;34m)\u001b[0m\u001b[0;34m\u001b[0m\u001b[0m\n\u001b[0m\u001b[1;32m      4\u001b[0m     \u001b[0ms\u001b[0m \u001b[0;34m=\u001b[0m \u001b[0;34m\"Local variable\"\u001b[0m\u001b[0;34m\u001b[0m\u001b[0m\n\u001b[1;32m      5\u001b[0m     \u001b[0mprint\u001b[0m\u001b[0;34m(\u001b[0m\u001b[0ms\u001b[0m\u001b[0;34m)\u001b[0m\u001b[0;34m\u001b[0m\u001b[0m\n",
      "\u001b[0;31mUnboundLocalError\u001b[0m: local variable 's' referenced before assignment"
     ]
    }
   ],
   "source": [
    "# Ошибка. Попытка использовать глобальную переменную перед созданием локальной\n",
    "def f():  \n",
    "    print(s) \n",
    "    s = \"Local variable\" \n",
    "    print(s)\n",
    "\n",
    "s = \"Global variable\" \n",
    "f() "
   ]
  }
 ],
 "metadata": {
  "kernelspec": {
   "display_name": "Python 3",
   "language": "python",
   "name": "python3"
  },
  "language_info": {
   "codemirror_mode": {
    "name": "ipython",
    "version": 3
   },
   "file_extension": ".py",
   "mimetype": "text/x-python",
   "name": "python",
   "nbconvert_exporter": "python",
   "pygments_lexer": "ipython3",
   "version": "3.5.2"
  },
  "toc": {
   "base_numbering": 1,
   "nav_menu": {},
   "number_sections": false,
   "sideBar": true,
   "skip_h1_title": true,
   "title_cell": "Содержание",
   "title_sidebar": "Содержание",
   "toc_cell": true,
   "toc_position": {
    "height": "843px",
    "left": "863px",
    "top": "111.133px",
    "width": "396px"
   },
   "toc_section_display": true,
   "toc_window_display": true
  }
 },
 "nbformat": 4,
 "nbformat_minor": 2
}
