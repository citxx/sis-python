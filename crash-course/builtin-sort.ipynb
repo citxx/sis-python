{
 "cells": [
  {
   "cell_type": "markdown",
   "metadata": {
    "toc": true
   },
   "source": [
    "<h1>Содержание<span class=\"tocSkip\"></span></h1>\n",
    "<div class=\"toc\"><ul class=\"toc-item\"><li><span><a href=\"#Встроенная-сортировка\" data-toc-modified-id=\"Встроенная-сортировка-1\">Встроенная сортировка</a></span></li><li><span><a href=\"#Сортировка-в-обратном-порядке\" data-toc-modified-id=\"Сортировка-в-обратном-порядке-2\">Сортировка в обратном порядке</a></span></li><li><span><a href=\"#Сортировка-по-ключу\" data-toc-modified-id=\"Сортировка-по-ключу-3\">Сортировка по ключу</a></span></li></ul></div>"
   ]
  },
  {
   "cell_type": "markdown",
   "metadata": {},
   "source": [
    "## Встроенная сортировка"
   ]
  },
  {
   "cell_type": "markdown",
   "metadata": {},
   "source": [
    "В Python есть метод `sort` для списков."
   ]
  },
  {
   "cell_type": "code",
   "execution_count": 4,
   "metadata": {
    "collapsed": false
   },
   "outputs": [
    {
     "name": "stdout",
     "output_type": "stream",
     "text": [
      "[-2, 1, 3, 5, 9]\n"
     ]
    }
   ],
   "source": [
    "a = [5, 3, -2, 9, 1]\n",
    "\n",
    "# Метод sort меняет существующий список\n",
    "a.sort()\n",
    "print(a)"
   ]
  },
  {
   "cell_type": "markdown",
   "metadata": {},
   "source": [
    "## Сортировка в обратном порядке"
   ]
  },
  {
   "cell_type": "markdown",
   "metadata": {},
   "source": [
    "Для сортировки в обратном порядке можно указать параметр `reverse`."
   ]
  },
  {
   "cell_type": "code",
   "execution_count": 3,
   "metadata": {
    "collapsed": false
   },
   "outputs": [
    {
     "name": "stdout",
     "output_type": "stream",
     "text": [
      "[9, 5, 3, 1, -2]\n"
     ]
    }
   ],
   "source": [
    "a = [5, 3, -2, 9, 1]\n",
    "a.sort(reverse=True)\n",
    "print(a)"
   ]
  },
  {
   "cell_type": "markdown",
   "metadata": {},
   "source": [
    "## Сортировка по ключу"
   ]
  },
  {
   "cell_type": "markdown",
   "metadata": {},
   "source": [
    "Сортировка по ключу позволяет отсортировать список не по значению самого элемента, а по чему-то другому."
   ]
  },
  {
   "cell_type": "code",
   "execution_count": 15,
   "metadata": {
    "collapsed": false
   },
   "outputs": [
    {
     "name": "stdout",
     "output_type": "stream",
     "text": [
      "['accessibility', 'all', 'bee', 'treasure', 'zen']\n"
     ]
    }
   ],
   "source": [
    "# Обычно строки сортируются в алфавитном порядке\n",
    "a = [\"bee\", \"all\", \"accessibility\", \"zen\", \"treasure\"]\n",
    "a.sort()\n",
    "print(a)"
   ]
  },
  {
   "cell_type": "code",
   "execution_count": 16,
   "metadata": {
    "collapsed": false
   },
   "outputs": [
    {
     "name": "stdout",
     "output_type": "stream",
     "text": [
      "['bee', 'all', 'zen', 'treasure', 'accessibility']\n"
     ]
    }
   ],
   "source": [
    "# А используя сортировку по ключу можно сортировать, например, по длине\n",
    "a = [\"bee\", \"all\", \"accessibility\", \"zen\", \"treasure\"]\n",
    "a.sort(key=len)\n",
    "print(a)"
   ]
  },
  {
   "cell_type": "markdown",
   "metadata": {},
   "source": [
    "В качестве параметра `key` можно указывать не только встроенные функции, но и самостоятельно определённые. Такая функция должна принимать один аргумент, элемент списка, и возращать значение, по которому надо сортировать."
   ]
  },
  {
   "cell_type": "code",
   "execution_count": 13,
   "metadata": {
    "collapsed": false
   },
   "outputs": [
    {
     "name": "stdout",
     "output_type": "stream",
     "text": [
      "[0, 1, 143, 15, 5, 17, 8, 48]\n"
     ]
    }
   ],
   "source": [
    "# Сортируем по остатку от деления на 10\n",
    "def mod(x):\n",
    "    return x % 10\n",
    "\n",
    "a = [1, 15, 143, 8, 0, 5, 17, 48]\n",
    "a.sort(key=mod)\n",
    "print(a)"
   ]
  },
  {
   "cell_type": "code",
   "execution_count": 18,
   "metadata": {
    "collapsed": false
   },
   "outputs": [
    {
     "name": "stdout",
     "output_type": "stream",
     "text": [
      "[[1, 5], [1, 6], [2, 9], [2, 15], [4, 1], [4, 3]]\n",
      "[[1, 6], [1, 5], [2, 15], [2, 9], [4, 3], [4, 1]]\n"
     ]
    }
   ],
   "source": [
    "# Обычно списки сортируются сначала по первому элементу, потом по второму и так далее\n",
    "a = [[4, 3], [1, 5], [2, 15], [1, 6], [2, 9], [4, 1]]\n",
    "a.sort()\n",
    "print(a)\n",
    "\n",
    "# А так можно отсортировать сначала по первому по возрастанию, а при равенсте — по втором\n",
    "def my_key(x):\n",
    "    return x[0], -x[1]\n",
    "\n",
    "a = [[4, 3], [1, 5], [2, 15], [1, 6], [2, 9], [4, 1]]\n",
    "a.sort(key=my_key)\n",
    "print(a)"
   ]
  }
 ],
 "metadata": {
  "kernelspec": {
   "display_name": "Python 3",
   "language": "python",
   "name": "python3"
  },
  "language_info": {
   "codemirror_mode": {
    "name": "ipython",
    "version": 3
   },
   "file_extension": ".py",
   "mimetype": "text/x-python",
   "name": "python",
   "nbconvert_exporter": "python",
   "pygments_lexer": "ipython3",
   "version": "3.5.2"
  },
  "toc": {
   "base_numbering": 1,
   "nav_menu": {},
   "number_sections": false,
   "sideBar": true,
   "skip_h1_title": false,
   "title_cell": "Содержание",
   "title_sidebar": "Содержание",
   "toc_cell": true,
   "toc_position": {},
   "toc_section_display": true,
   "toc_window_display": false
  }
 },
 "nbformat": 4,
 "nbformat_minor": 1
}
