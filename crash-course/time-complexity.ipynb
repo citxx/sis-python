{
 "cells": [
  {
   "cell_type": "markdown",
   "metadata": {
    "toc": true
   },
   "source": [
    "<h1>Содержание<span class=\"tocSkip\"></span></h1>\n",
    "<div class=\"toc\"><ul class=\"toc-item\"><li><span><a href=\"#Список-(list)\" data-toc-modified-id=\"Список-(list)-1\">Список (list)</a></span></li><li><span><a href=\"#Дек-(collections.deque)\" data-toc-modified-id=\"Дек-(collections.deque)-2\">Дек (collections.deque)</a></span></li><li><span><a href=\"#Множество-(set)\" data-toc-modified-id=\"Множество-(set)-3\">Множество (set)</a></span></li><li><span><a href=\"#Словарь-(dict)\" data-toc-modified-id=\"Словарь-(dict)-4\">Словарь (dict)</a></span></li></ul></div>"
   ]
  },
  {
   "cell_type": "markdown",
   "metadata": {},
   "source": [
    "# Время работы операций в контейнерах"
   ]
  },
  {
   "cell_type": "markdown",
   "metadata": {},
   "source": [
    "## Список (list)"
   ]
  },
  {
   "cell_type": "markdown",
   "metadata": {},
   "source": [
    "| Операция | Результат | В среднем | В худшем случае | \n",
    "| --- | --- | --- | --- |\n",
    "| `x in s` | True, если в s есть элемент, равный x, иначе False | O(n) ||\n",
    "| `x not in s` | False, если в s есть элемент, равный x, иначе True| O(n) ||\n",
    "| `s + t` | Конкатенация s и t | O(len(s) + len(t)) | O(len(s) + len(t)) |\n",
    "| `s * k` или `k * s` | Добавление s к самому себе k раз | O(len(s) * k) | O(len(s) * k) |\n",
    "| `s[i]` | Взять i-ый элемент | O(1) | O(1) |\n",
    "| `s[i] = x` | Установить i-ый элемент | O(1) | O(1) |\n",
    "| `del s[i]` | Удалить i-ый элемент | O(n) | O(n) |\n",
    "| `s[i:j]` | Взять срез s от i до j | O(j - i) | O(j - i) |\n",
    "| `s[i:j:k]` | Взять срез s от i до j с шагом k | O((j - i) // k) | O((j - i) // k) |\n",
    "| `s[i:j] = t` | Изменение среза | O(len(s) + len(t)) | O(len(s) + len(t)) |\n",
    "| `del s[i:j]` | Удаление среза | O(n) | O(n) |\n",
    "| `for x in s` | Итерация | O(n) | O(n) |\n",
    "| `len(s)` | Длина s | O(1) | O(1) |\n",
    "| `min(s)` | Минимальный элемент s | O(n) | |\n",
    "| `max(s)` | Максимальный элемент s | O(n) | |\n",
    "| `s.index(x[, i[, j]])` | Индекс первого вхождения x в s (в диапазоне от i до j) | O(n) | O(n) |\n",
    "| `s.count(x)` | Количество вхождений x в s | O(n) | O(n) |\n",
    "| `s.append(x)` | Добавление элемента x в конец s| O(1) | O(1) |\n",
    "| `s.sort()` | Сортировка | O(n log n) | O(n log n) |\n",
    "| `s.extend(t)` | Добавление всех элементов t в в конец s| O(n + m) | O(n + m) |\n",
    "| `s.pop()` | Вытащить последний элемент | O(1) | O(1) |\n",
    "| `s.pop(i)` | Вытащить i-ый элемент | O(n - i) | O(n - i) |\n",
    "| `s.insert(i, x)` | Вставить на i-ое место элемент x | O(n) | O(n) |\n",
    "\n",
    "\n",
    "\n"
   ]
  },
  {
   "cell_type": "markdown",
   "metadata": {},
   "source": [
    "## Дек (collections.deque)"
   ]
  },
  {
   "cell_type": "markdown",
   "metadata": {},
   "source": [
    "| Операция | Результат | В среднем | В худшем случае |\n",
    "| --- | --- | --- | --- |\n",
    "| `q.append(x)` | Добавить элемент x в конец дека | O(1) | O(1) |\n",
    "| `q.appendleft(x)` | Добавить элемент x в начало дека| O(1) | O(1) |\n",
    "| `q.pop()` | Вытащить последний элемент | O(1) | O(1) |\n",
    "| `q.popleft()` | Вытащить первый элемент | O(1) | O(1) |\n",
    "| `q.extend(t)` | Добавить все элементы t в конец дека | O(len(t)) | O(len(t)) |\n",
    "| `q.extendleft(t)` | Добавить все элементы t в начало дека | O(len(t)) | O(len(t)) |\n",
    "| `q.rotate(x)` | Сделать циклически сдвиг на x элементов | O(x) | O(x) |\n",
    "| `q.remove(x)` | Удалить элемент x | O(n) | O(n) |\n"
   ]
  },
  {
   "cell_type": "markdown",
   "metadata": {},
   "source": [
    "## Множество (set)"
   ]
  },
  {
   "cell_type": "markdown",
   "metadata": {},
   "source": [
    "<table>\n",
    "<thead><tr>\n",
    "<th>Операция</th>\n",
    "<th>Результат</th>\n",
    "<th>В среднем</th>\n",
    "<th>В худшем случае</th>\n",
    "</tr>\n",
    "</thead>\n",
    "<tbody>\n",
    "<tr>\n",
    "<td><code>x in s</code></td>\n",
    "<td>Вхождение элемента x в s</td>\n",
    "<td>O(1)</td>\n",
    "<td>O(n)</td>\n",
    "</tr>\n",
    "<tr>\n",
    "<td><code>s | t</code></td>\n",
    "<td>Объединение множеств</td>\n",
    "<td>O(len(s) + len(t))</td>\n",
    "<td></td>\n",
    "</tr>\n",
    "<tr>\n",
    "<td><code>s &amp; t</code></td>\n",
    "<td>Пересечение множеств</td>\n",
    "<td>O(min(len(s), len(t)))</td>\n",
    "<td>O(len(s) * len(t))</td>\n",
    "</tr>\n",
    "<tr>\n",
    "<td><code>s1 &amp; s2 &amp; ... &amp; sn</code></td>\n",
    "<td>Пересечение нескольких множеств</td>\n",
    "<td></td>\n",
    "<td>(n - 1) * O(l), l = max(len(s1), len(s2), ..., len(sn))</td>\n",
    "</tr>\n",
    "<tr>\n",
    "<td><code>s - t</code></td>\n",
    "<td>Разность множеств</td>\n",
    "<td>O(len(s))</td>\n",
    "<td></td>\n",
    "</tr>\n",
    "<tr>\n",
    "<td><code>s -= t</code></td>\n",
    "<td>Разность множеств, вычисляется в s</td>\n",
    "<td>O(len(t))</td>\n",
    "<td></td>\n",
    "</tr>\n",
    "<tr>\n",
    "<td><code>s ^ t</code></td>\n",
    "<td>Симметрическая разность</td>\n",
    "<td>O(len(s))</td>\n",
    "<td>O(len(s) * len(t))</td>\n",
    "</tr>\n",
    "<tr>\n",
    "<td><code>s ^= t</code></td>\n",
    "<td>Симметрическая разность, вычисляется в s</td>\n",
    "<td>O(len(t))</td>\n",
    "<td>O(len(t) * len(s))</td>\n",
    "</tr>\n",
    "<tr>\n",
    "<td><code>s.add(x)</code></td>\n",
    "<td>Добавить элемент x в s</td>\n",
    "<td>O(1)</td>\n",
    "<td>O(n)</td>\n",
    "</tr>\n",
    "<tr>\n",
    "<td><code>s.remove(x)</code></td>\n",
    "<td>Удалить элемент x из s, кидает ошибку, если элемента нет</td>\n",
    "<td>O(1)</td>\n",
    "<td>O(n)</td>\n",
    "</tr>\n",
    "<tr>\n",
    "<td><code>s.discard(x)</code></td>\n",
    "<td>Удалить элемент x из s, если он есть</td>\n",
    "<td>O(1)</td>\n",
    "<td>O(n)</td>\n",
    "</tr>\n",
    "<tr>\n",
    "<td><code>s.pop()</code></td>\n",
    "<td>Вытащить какой-то элемент из s</td>\n",
    "<td>O(1)</td>\n",
    "<td>O(n)</td>\n",
    "</tr>\n",
    "<tr>\n",
    "<td><code>s.clear()</code></td>\n",
    "<td>Удалить все элементы из s</td>\n",
    "<td>O(n)</td>\n",
    "<td>O(n)</td>\n",
    "</tr>\n",
    "</tbody>\n",
    "</table>\n"
   ]
  },
  {
   "cell_type": "markdown",
   "metadata": {},
   "source": [
    "## Словарь (dict)"
   ]
  },
  {
   "cell_type": "markdown",
   "metadata": {},
   "source": [
    "| Операция | Результат | В среднем | В худшем случае |\n",
    "| --- | --- | --- | --- |\n",
    "| `d[key]` | Взять элемент по ключу key | O(1) | O(n) |\n",
    "| `d.get(key, default)` | Взять элемент по ключу key. Если его нет, взять default | O(1) | O(n) |\n",
    "| `d[key] = value` | Присвоить элемент по ключу key | O(1) | O(n) |\n",
    "| `del d[key]` | Удалить элемент по ключу key | O(1) | O(n) |\n",
    "| `for key, value in d.items()` | Итерация | O(n) | O(n) |\n",
    "| `key in d` | Проверка существования ключа key | O(n) | O(n) |\n"
   ]
  }
 ],
 "metadata": {
  "kernelspec": {
   "display_name": "Python 3",
   "language": "python",
   "name": "python3"
  },
  "language_info": {
   "codemirror_mode": {
    "name": "ipython",
    "version": 3
   },
   "file_extension": ".py",
   "mimetype": "text/x-python",
   "name": "python",
   "nbconvert_exporter": "python",
   "pygments_lexer": "ipython3",
   "version": "3.6.3"
  },
  "toc": {
   "base_numbering": 1,
   "nav_menu": {},
   "number_sections": false,
   "sideBar": true,
   "skip_h1_title": true,
   "title_cell": "Содержание",
   "title_sidebar": "Содержание",
   "toc_cell": true,
   "toc_position": {},
   "toc_section_display": true,
   "toc_window_display": true
  }
 },
 "nbformat": 4,
 "nbformat_minor": 2
}
