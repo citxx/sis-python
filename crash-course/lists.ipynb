{
 "cells": [
  {
   "cell_type": "markdown",
   "metadata": {
    "toc": true
   },
   "source": [
    "<h1>Содержание<span class=\"tocSkip\"></span></h1>\n",
    "<div class=\"toc\"><ul class=\"toc-item\"><li><span><a href=\"#Базовые-операции\" data-toc-modified-id=\"Базовые-операции-1\">Базовые операции</a></span><ul class=\"toc-item\"><li><span><a href=\"#Создание-списка\" data-toc-modified-id=\"Создание-списка-1.1\">Создание списка</a></span></li><li><span><a href=\"#Доступ-к-элементам\" data-toc-modified-id=\"Доступ-к-элементам-1.2\">Доступ к элементам</a></span></li><li><span><a href=\"#Добавление-элемента-в-конец\" data-toc-modified-id=\"Добавление-элемента-в-конец-1.3\">Добавление элемента в конец</a></span></li><li><span><a href=\"#Длина-списка\" data-toc-modified-id=\"Длина-списка-1.4\">Длина списка</a></span></li><li><span><a href=\"#Сортировка\" data-toc-modified-id=\"Сортировка-1.5\">Сортировка</a></span></li><li><span><a href=\"#Сложение\" data-toc-modified-id=\"Сложение-1.6\">Сложение</a></span></li><li><span><a href=\"#Особенности-присваивания-списков\" data-toc-modified-id=\"Особенности-присваивания-списков-1.7\">Особенности присваивания списков</a></span></li></ul></li><li><span><a href=\"#Списки-и-if\" data-toc-modified-id=\"Списки-и-if-2\">Списки и if</a></span><ul class=\"toc-item\"><li><span><a href=\"#Преобразование-к-логическому-значению\" data-toc-modified-id=\"Преобразование-к-логическому-значению-2.1\">Преобразование к логическому значению</a></span></li><li><span><a href=\"#Проверка-наличия-элемента-в-списке\" data-toc-modified-id=\"Проверка-наличия-элемента-в-списке-2.2\">Проверка наличия элемента в списке</a></span></li></ul></li><li><span><a href=\"#Списки-и-for\" data-toc-modified-id=\"Списки-и-for-3\">Списки и for</a></span></li><li><span><a href=\"#Распаковка-списков\" data-toc-modified-id=\"Распаковка-списков-4\">Распаковка списков</a></span></li><li><span><a href=\"#Другие-операции\" data-toc-modified-id=\"Другие-операции-5\">Другие операции</a></span><ul class=\"toc-item\"><li><span><a href=\"#Минимум\" data-toc-modified-id=\"Минимум-5.1\">Минимум</a></span></li><li><span><a href=\"#Сумма\" data-toc-modified-id=\"Сумма-5.2\">Сумма</a></span></li><li><span><a href=\"#Индекс-элемента\" data-toc-modified-id=\"Индекс-элемента-5.3\">Индекс элемента</a></span></li><li><span><a href=\"#Удаление-элемента\" data-toc-modified-id=\"Удаление-элемента-5.4\">Удаление элемента</a></span></li><li><span><a href=\"#Вставка-элемента\" data-toc-modified-id=\"Вставка-элемента-5.5\">Вставка элемента</a></span></li><li><span><a href=\"#Переворачивание-списка\" data-toc-modified-id=\"Переворачивание-списка-5.6\">Переворачивание списка</a></span></li></ul></li></ul></div>"
   ]
  },
  {
   "cell_type": "markdown",
   "metadata": {},
   "source": [
    "# Списки"
   ]
  },
  {
   "cell_type": "markdown",
   "metadata": {},
   "source": [
    "Списки (`list`) — это некоторое подобие массива в \"привычных\" вам языках программирования лишь с тем отличием, что в `list` могут храниться элементы разных типов. Давайте попробуем разобраться на примерах."
   ]
  },
  {
   "cell_type": "markdown",
   "metadata": {},
   "source": [
    "## Базовые операции"
   ]
  },
  {
   "cell_type": "markdown",
   "metadata": {},
   "source": [
    "### Создание списка"
   ]
  },
  {
   "cell_type": "code",
   "execution_count": 1,
   "metadata": {
    "collapsed": false
   },
   "outputs": [
    {
     "name": "stdout",
     "output_type": "stream",
     "text": [
      "1 2 Hi\n"
     ]
    }
   ],
   "source": [
    "a = [1, 2, \"Hi\"]         # Создать список и присвоить переменной `а` этот список\n",
    "print(a[0], a[1], a[2])  # Обращение к элементам списка, индексация с нуля\n",
    "\n",
    "b = list()               # Создать пустой список\n",
    "c = []                   # Другой способ создать пустой список"
   ]
  },
  {
   "cell_type": "markdown",
   "metadata": {},
   "source": [
    "### Доступ к элементам"
   ]
  },
  {
   "cell_type": "code",
   "execution_count": 2,
   "metadata": {
    "collapsed": false
   },
   "outputs": [
    {
     "name": "stdout",
     "output_type": "stream",
     "text": [
      "[1, 4, 'Hi']\n"
     ]
    }
   ],
   "source": [
    "a = [1, 2, \"Hi\"] \n",
    "a[1] = 4  # Изменить отдельный элемент списка\n",
    "print(a)  # Вывести весь список"
   ]
  },
  {
   "cell_type": "markdown",
   "metadata": {},
   "source": [
    "Обратите внимание, что при выведении списка таким способом он выводится с квадратными скобками и запятыми."
   ]
  },
  {
   "cell_type": "markdown",
   "metadata": {},
   "source": [
    "В Python есть отрицательная индексация. `−1` элемент это последний элемент, `−2` элемент это предпоследний элемент списка и так далее:"
   ]
  },
  {
   "cell_type": "code",
   "execution_count": 1,
   "metadata": {
    "collapsed": false
   },
   "outputs": [
    {
     "name": "stdout",
     "output_type": "stream",
     "text": [
      "Hi = Hi\n",
      "2 = 2\n",
      "1 = 1\n"
     ]
    }
   ],
   "source": [
    "a = [1, 2, \"Hi\"]\n",
    "print(a[-1], '=', a[2])\n",
    "print(a[-2], '=', a[1])\n",
    "print(a[-3], '=', a[0])"
   ]
  },
  {
   "cell_type": "code",
   "execution_count": 3,
   "metadata": {
    "collapsed": false
   },
   "outputs": [
    {
     "name": "stdout",
     "output_type": "stream",
     "text": [
      "[1, 2, 3]\n"
     ]
    }
   ],
   "source": [
    "b = [\"a\", 1, -2, [1, 2, 3], \"b\", 3.4]  # Элементом списка может быть список\n",
    "print(b[-3])"
   ]
  },
  {
   "cell_type": "markdown",
   "metadata": {},
   "source": [
    "### Добавление элемента в конец"
   ]
  },
  {
   "cell_type": "markdown",
   "metadata": {},
   "source": [
    "Метод `append` добавляет новый элемент в конец существующего списка:"
   ]
  },
  {
   "cell_type": "code",
   "execution_count": 5,
   "metadata": {
    "collapsed": false
   },
   "outputs": [
    {
     "name": "stdout",
     "output_type": "stream",
     "text": [
      "[2, 3, 5]\n"
     ]
    }
   ],
   "source": [
    "a = [2, 3]\n",
    "a.append(5)\n",
    "print(a)"
   ]
  },
  {
   "cell_type": "markdown",
   "metadata": {},
   "source": [
    "### Длина списка"
   ]
  },
  {
   "cell_type": "markdown",
   "metadata": {},
   "source": [
    "Функция `len` позволяет узнать длину (размер) списка:"
   ]
  },
  {
   "cell_type": "code",
   "execution_count": 6,
   "metadata": {
    "collapsed": false
   },
   "outputs": [
    {
     "name": "stdout",
     "output_type": "stream",
     "text": [
      "3\n"
     ]
    }
   ],
   "source": [
    "a = [1, 3, 6]\n",
    "print(len(a))"
   ]
  },
  {
   "cell_type": "markdown",
   "metadata": {},
   "source": [
    "### Сортировка"
   ]
  },
  {
   "cell_type": "markdown",
   "metadata": {},
   "source": [
    "Метод `sort` сортирует текущий список по невозрастанию:"
   ]
  },
  {
   "cell_type": "code",
   "execution_count": 7,
   "metadata": {
    "collapsed": false
   },
   "outputs": [
    {
     "name": "stdout",
     "output_type": "stream",
     "text": [
      "[1, 2, 2, 3, 4]\n"
     ]
    }
   ],
   "source": [
    "a = [3, 2, 4, 1, 2]\n",
    "a.sort()\n",
    "print(a)"
   ]
  },
  {
   "cell_type": "markdown",
   "metadata": {},
   "source": [
    "### Сложение"
   ]
  },
  {
   "cell_type": "markdown",
   "metadata": {},
   "source": [
    "Списки можно складывать друг с другом. При этом создаётся новый список, в котором сначала идут элементы одного списка, затем другого."
   ]
  },
  {
   "cell_type": "code",
   "execution_count": 8,
   "metadata": {
    "collapsed": false
   },
   "outputs": [
    {
     "name": "stdout",
     "output_type": "stream",
     "text": [
      "[1, 2, 3, 4, 5, 6]\n"
     ]
    }
   ],
   "source": [
    "a = [1, 2, 3]\n",
    "b = [4, 5, 6]\n",
    "c = a + b\n",
    "print(c)"
   ]
  },
  {
   "cell_type": "markdown",
   "metadata": {},
   "source": [
    "### Особенности присваивания списков"
   ]
  },
  {
   "cell_type": "markdown",
   "metadata": {},
   "source": [
    "Во время выполнения интерпретатор хранит все данные, которые у вас есть в программе, как некоторый набор объектов. Примеры объектов:\n",
    "\n",
    "- `42` — число 42\n",
    "- `\"abc\"` — строка «abc»\n",
    "- `\"42\"` — строка «42»\n",
    "- `3.0` — вещественное число 3.0\n",
    "- `False` — логическое значение «Ложь»\n",
    "- `[\"abc\", \"42\", 42]` — список из нескольких других объектов\n",
    "\n",
    "Переменная — это всего лишь ссылка на объект, который хранит интепретатор.\n",
    "\n",
    "С учётом ссылочного устройства, посмотрим как происходит присваивание одного списка другому:"
   ]
  },
  {
   "cell_type": "code",
   "execution_count": 5,
   "metadata": {
    "collapsed": false
   },
   "outputs": [
    {
     "name": "stdout",
     "output_type": "stream",
     "text": [
      "id(a) =  140623911503880\n",
      "id(b) =  140623911503880\n",
      "b = [-1, 2, 3, 4]\n"
     ]
    }
   ],
   "source": [
    "a = [1, 2, 3, 4]  # а - ссылка на список, каждый элемент списка это ссылки на объекты 1, 2, 3, 4\n",
    "b = a             # b - ссылка на тот же самый список\n",
    "\n",
    "# В Python у каждого объекта есть свой id (идентификатор) -\n",
    "# некоторое уникальное число, сопоставленное объекту\n",
    "print(\"id(a) = \", id(a))\n",
    "print(\"id(b) = \", id(b))\n",
    "\n",
    "a[0] = -1        # Меняем элемент списка a\n",
    "print(\"b =\", b)  # Значение b тоже поменялось!"
   ]
  },
  {
   "cell_type": "markdown",
   "metadata": {},
   "source": [
    "Чтобы узнать как скопировать список, читайте страницу про срезы."
   ]
  },
  {
   "cell_type": "markdown",
   "metadata": {},
   "source": [
    "Почему то же самое не происходит с другими типами, например числами? Рассматривайте каждое отдельное число тоже как отдельный объект, на который может вести ссылка. Например, `2` это объект, и `3` это объект. При изменении значения переменной меняется только ссылка, а не объект."
   ]
  },
  {
   "cell_type": "code",
   "execution_count": 10,
   "metadata": {
    "collapsed": false
   },
   "outputs": [
    {
     "name": "stdout",
     "output_type": "stream",
     "text": [
      "a = 2 , id(a) = 10935520\n",
      "b = 2 , id(b) = 10935520\n",
      "\n",
      "a = 3 , id(a) = 10935552\n",
      "b = 2 , id(b) = 10935520\n"
     ]
    }
   ],
   "source": [
    "a = 2\n",
    "b = a\n",
    "print(\"a =\", a, \", id(a) =\", id(a))\n",
    "print(\"b =\", b, \", id(b) =\", id(b))\n",
    "print()\n",
    "\n",
    "a = 3\n",
    "print(\"a =\", a, \", id(a) =\", id(a))\n",
    "print(\"b =\", b, \", id(b) =\", id(b))"
   ]
  },
  {
   "cell_type": "markdown",
   "metadata": {},
   "source": [
    "## Списки и if"
   ]
  },
  {
   "cell_type": "markdown",
   "metadata": {},
   "source": [
    "### Преобразование к логическому значению"
   ]
  },
  {
   "cell_type": "markdown",
   "metadata": {},
   "source": [
    "Пустой список преобразуется к логическому значению `False`:"
   ]
  },
  {
   "cell_type": "code",
   "execution_count": 11,
   "metadata": {
    "collapsed": false
   },
   "outputs": [
    {
     "name": "stdout",
     "output_type": "stream",
     "text": [
      "Ветка else\n"
     ]
    }
   ],
   "source": [
    "lst = []\n",
    "if lst:\n",
    "    print(\"Ветка if\")\n",
    "else:\n",
    "    print(\"Ветка else\")"
   ]
  },
  {
   "cell_type": "code",
   "execution_count": 12,
   "metadata": {
    "collapsed": false
   },
   "outputs": [
    {
     "name": "stdout",
     "output_type": "stream",
     "text": [
      "Ветка if\n"
     ]
    }
   ],
   "source": [
    "lst = []\n",
    "if not lst:\n",
    "     print(\"Ветка if\")\n",
    "else:\n",
    "    print(\"Ветка else\")"
   ]
  },
  {
   "cell_type": "markdown",
   "metadata": {},
   "source": [
    "Непустой список преобразуется к `True`:"
   ]
  },
  {
   "cell_type": "code",
   "execution_count": 13,
   "metadata": {
    "collapsed": false
   },
   "outputs": [
    {
     "name": "stdout",
     "output_type": "stream",
     "text": [
      "Ветка if\n"
     ]
    }
   ],
   "source": [
    "lst = [2, 3, 4]\n",
    "if lst:\n",
    "    print(\"Ветка if\")\n",
    "else:\n",
    "    print(\"Ветка else\")"
   ]
  },
  {
   "cell_type": "code",
   "execution_count": null,
   "metadata": {
    "collapsed": true
   },
   "outputs": [],
   "source": [
    "lst = [[]]\n",
    "if lst:\n",
    "    print(\"Ветка if\")\n",
    "else:\n",
    "    print(\"Ветка else\")"
   ]
  },
  {
   "cell_type": "markdown",
   "metadata": {},
   "source": [
    "### Проверка наличия элемента в списке"
   ]
  },
  {
   "cell_type": "markdown",
   "metadata": {},
   "source": [
    "Проверить, есть ли элемент в списке, можно с помощью оператора `in`. Это то же самое, что и пройти по всему списку и для каждого элемента проверить, не равен ли он искомому."
   ]
  },
  {
   "cell_type": "code",
   "execution_count": 15,
   "metadata": {
    "collapsed": false
   },
   "outputs": [
    {
     "name": "stdout",
     "output_type": "stream",
     "text": [
      "3 is in the list\n"
     ]
    }
   ],
   "source": [
    "lst = [1, 6, 29, 4, \"a\", 3, -1]\n",
    "if 3 in lst:\n",
    "    print(\"3 is in the list\")\n",
    "else:\n",
    "    print(\"3 is not in the list\")"
   ]
  },
  {
   "cell_type": "markdown",
   "metadata": {},
   "source": [
    "Также есть аналогичный оператор `not in`, который проверяет, что элемента нет в списке:"
   ]
  },
  {
   "cell_type": "code",
   "execution_count": 16,
   "metadata": {
    "collapsed": false
   },
   "outputs": [
    {
     "name": "stdout",
     "output_type": "stream",
     "text": [
      "5 is not in the list\n"
     ]
    }
   ],
   "source": [
    "lst = [1, 6, 29, 4, \"a\", 3, -1]\n",
    "if 5 not in lst:\n",
    "    print(\"5 is not in the list\")"
   ]
  },
  {
   "cell_type": "markdown",
   "metadata": {},
   "source": [
    "## Списки и for"
   ]
  },
  {
   "cell_type": "markdown",
   "metadata": {},
   "source": [
    "Есть специальный синтаксис цикла `for`, который позволяет пройтись по каждому элементу списка. В этом случае переменной присваивается не индекс элемента, а именно значение:"
   ]
  },
  {
   "cell_type": "code",
   "execution_count": 8,
   "metadata": {
    "collapsed": false
   },
   "outputs": [
    {
     "name": "stdout",
     "output_type": "stream",
     "text": [
      "2\n",
      "3\n",
      "5\n",
      "7\n"
     ]
    }
   ],
   "source": [
    "for i in [2, 3, 5, 7]:\n",
    "    print(i)"
   ]
  },
  {
   "cell_type": "code",
   "execution_count": 9,
   "metadata": {
    "collapsed": false
   },
   "outputs": [
    {
     "name": "stdout",
     "output_type": "stream",
     "text": [
      "3\n",
      "ads\n",
      "[1, 2]\n"
     ]
    }
   ],
   "source": [
    "lst = [3, \"ads\", [1, 2]]\n",
    "for i in lst:\n",
    "    print(i)"
   ]
  },
  {
   "cell_type": "markdown",
   "metadata": {},
   "source": [
    "В каком-то смысле `range` тоже похож на `list`:"
   ]
  },
  {
   "cell_type": "code",
   "execution_count": 19,
   "metadata": {
    "collapsed": false
   },
   "outputs": [
    {
     "name": "stdout",
     "output_type": "stream",
     "text": [
      "2 4\n"
     ]
    }
   ],
   "source": [
    "r = range(5)\n",
    "\n",
    "print(r[2], r[-1])"
   ]
  },
  {
   "cell_type": "markdown",
   "metadata": {},
   "source": [
    "## Распаковка списков"
   ]
  },
  {
   "cell_type": "markdown",
   "metadata": {},
   "source": [
    "Раньше мы уже встречались с такой конструкцией как параллельное присваивание:\n",
    "\n",
    "`a, b = c, d`\n",
    "\n",
    "Давайте ее немного обобщим. Если мы вместо двух значений c и d поставим один список, содержащий столько же элементов, сколько и переменных в левой части равенства, то Python проделает аналогичное параллельное присваивание."
   ]
  },
  {
   "cell_type": "code",
   "execution_count": 20,
   "metadata": {
    "collapsed": false
   },
   "outputs": [
    {
     "name": "stdout",
     "output_type": "stream",
     "text": [
      "2 abs 3\n"
     ]
    }
   ],
   "source": [
    "a, b, c = [2, \"abs\", 3]  # Присваиваем в явном виде заданный список\n",
    "print(a, b, c)"
   ]
  },
  {
   "cell_type": "code",
   "execution_count": 21,
   "metadata": {
    "collapsed": false
   },
   "outputs": [
    {
     "name": "stdout",
     "output_type": "stream",
     "text": [
      "2 abs 3\n"
     ]
    }
   ],
   "source": [
    "lst = [2, \"abs\", 3]\n",
    "a, b, c = lst  # Чуть менее тривиальная запись того же самого\n",
    "print(a, b, c)"
   ]
  },
  {
   "cell_type": "markdown",
   "metadata": {},
   "source": [
    "Кроме того, можно распаковывать списки прямо в цикле `for`:"
   ]
  },
  {
   "cell_type": "code",
   "execution_count": 10,
   "metadata": {
    "collapsed": false
   },
   "outputs": [
    {
     "name": "stdout",
     "output_type": "stream",
     "text": [
      "1 1\n",
      "2 4\n",
      "3 9\n",
      "4 16\n",
      "\n",
      "1 1\n",
      "2 4\n",
      "3 9\n",
      "4 16\n"
     ]
    }
   ],
   "source": [
    "lst = [[1, 1], [2, 4], [3, 9], [4, 16]]\n",
    "\n",
    "for a, b in lst:\n",
    "    print(a, b)\n",
    "print()\n",
    "\n",
    "# То же самое в более привычной форме\n",
    "for x in lst:\n",
    "    a, b = x\n",
    "    print(a, b)"
   ]
  },
  {
   "cell_type": "markdown",
   "metadata": {},
   "source": [
    "## Другие операции"
   ]
  },
  {
   "cell_type": "markdown",
   "metadata": {},
   "source": [
    "Также для списков есть набор многих других удобных функций, уже встроенных в Python. "
   ]
  },
  {
   "cell_type": "markdown",
   "metadata": {},
   "source": [
    "### Минимум"
   ]
  },
  {
   "cell_type": "markdown",
   "metadata": {},
   "source": [
    "Функция `min` ищет минимальный элемент списка:"
   ]
  },
  {
   "cell_type": "code",
   "execution_count": 23,
   "metadata": {
    "collapsed": false
   },
   "outputs": [
    {
     "name": "stdout",
     "output_type": "stream",
     "text": [
      "-2\n",
      "10\n"
     ]
    }
   ],
   "source": [
    "l = [1, 2, -1, 3, 2, -2, 1, 5, 7, 3]\n",
    "print(min(l))\n",
    "\n",
    "# min можно брать и от двух элементов вместо списка\n",
    "print(min(12, 10))"
   ]
  },
  {
   "cell_type": "markdown",
   "metadata": {},
   "source": [
    "### Сумма"
   ]
  },
  {
   "cell_type": "markdown",
   "metadata": {},
   "source": [
    "Функция `sum` считает сумму всех чисел списка:"
   ]
  },
  {
   "cell_type": "code",
   "execution_count": 24,
   "metadata": {
    "collapsed": false
   },
   "outputs": [
    {
     "name": "stdout",
     "output_type": "stream",
     "text": [
      "17\n"
     ]
    }
   ],
   "source": [
    "print(sum([2, 3, 11, 1]))"
   ]
  },
  {
   "cell_type": "markdown",
   "metadata": {},
   "source": [
    "### Индекс элемента"
   ]
  },
  {
   "cell_type": "markdown",
   "metadata": {},
   "source": [
    "Метод `index` находит индекс элемента в списке:"
   ]
  },
  {
   "cell_type": "code",
   "execution_count": 25,
   "metadata": {
    "collapsed": false
   },
   "outputs": [
    {
     "name": "stdout",
     "output_type": "stream",
     "text": [
      "3\n"
     ]
    }
   ],
   "source": [
    "l = [1, 2, -1, 3, 2, -2, 1, 5, 7, 3]\n",
    "print(l.index(3))  # В списке l у нас две тройки и index возвращает индекс первой из них"
   ]
  },
  {
   "cell_type": "code",
   "execution_count": 26,
   "metadata": {
    "collapsed": false,
    "scrolled": true
   },
   "outputs": [
    {
     "ename": "ValueError",
     "evalue": "115 is not in list",
     "output_type": "error",
     "traceback": [
      "\u001b[0;31m---------------------------------------------------------------------------\u001b[0m",
      "\u001b[0;31mValueError\u001b[0m                                Traceback (most recent call last)",
      "\u001b[0;32m<ipython-input-26-84194bde2c42>\u001b[0m in \u001b[0;36m<module>\u001b[0;34m()\u001b[0m\n\u001b[1;32m      1\u001b[0m \u001b[0ml\u001b[0m \u001b[0;34m=\u001b[0m \u001b[0;34m[\u001b[0m\u001b[0;36m1\u001b[0m\u001b[0;34m,\u001b[0m \u001b[0;36m2\u001b[0m\u001b[0;34m,\u001b[0m \u001b[0;34m-\u001b[0m\u001b[0;36m1\u001b[0m\u001b[0;34m,\u001b[0m \u001b[0;36m3\u001b[0m\u001b[0;34m,\u001b[0m \u001b[0;36m2\u001b[0m\u001b[0;34m,\u001b[0m \u001b[0;34m-\u001b[0m\u001b[0;36m2\u001b[0m\u001b[0;34m,\u001b[0m \u001b[0;36m1\u001b[0m\u001b[0;34m,\u001b[0m \u001b[0;36m5\u001b[0m\u001b[0;34m,\u001b[0m \u001b[0;36m7\u001b[0m\u001b[0;34m,\u001b[0m \u001b[0;36m3\u001b[0m\u001b[0;34m]\u001b[0m\u001b[0;34m\u001b[0m\u001b[0m\n\u001b[0;32m----> 2\u001b[0;31m \u001b[0mprint\u001b[0m\u001b[0;34m(\u001b[0m\u001b[0ml\u001b[0m\u001b[0;34m.\u001b[0m\u001b[0mindex\u001b[0m\u001b[0;34m(\u001b[0m\u001b[0;36m115\u001b[0m\u001b[0;34m)\u001b[0m\u001b[0;34m)\u001b[0m  \u001b[0;31m# Если элемента нет в списке, то произойдет ошибка выполнения\u001b[0m\u001b[0;34m\u001b[0m\u001b[0m\n\u001b[0m",
      "\u001b[0;31mValueError\u001b[0m: 115 is not in list"
     ]
    }
   ],
   "source": [
    "l = [1, 2, -1, 3, 2, -2, 1, 5, 7, 3]\n",
    "print(l.index(115))  # Если элемента нет в списке, то произойдет ошибка выполнения"
   ]
  },
  {
   "cell_type": "markdown",
   "metadata": {},
   "source": [
    "> `ValueError: 115 is not in list` = `ОшибкаЗначения: 115 не найдено в списке`"
   ]
  },
  {
   "cell_type": "markdown",
   "metadata": {},
   "source": [
    "### Удаление элемента"
   ]
  },
  {
   "cell_type": "markdown",
   "metadata": {},
   "source": [
    "Следующие методы изменяют именно текущий список, а не создают новый. Ни для одного из списков не поменяется `id`."
   ]
  },
  {
   "cell_type": "markdown",
   "metadata": {},
   "source": [
    "Метод `pop` удаляет и возращает последний элемент из списка:"
   ]
  },
  {
   "cell_type": "code",
   "execution_count": 11,
   "metadata": {
    "collapsed": false
   },
   "outputs": [
    {
     "name": "stdout",
     "output_type": "stream",
     "text": [
      "[1, 2]\n",
      "3\n"
     ]
    }
   ],
   "source": [
    "l = [1, 2, 3]\n",
    "last_element = l.pop()\n",
    "print(l)\n",
    "print(last_element)"
   ]
  },
  {
   "cell_type": "markdown",
   "metadata": {},
   "source": [
    "### Вставка элемента"
   ]
  },
  {
   "cell_type": "markdown",
   "metadata": {},
   "source": [
    "Метод `insert(index, element)` вставляет элемент `element` на место `index`, остальные элементы сдвигаются."
   ]
  },
  {
   "cell_type": "code",
   "execution_count": 28,
   "metadata": {
    "collapsed": false
   },
   "outputs": [
    {
     "name": "stdout",
     "output_type": "stream",
     "text": [
      "[1, 2, 3, 4, 5]\n"
     ]
    }
   ],
   "source": [
    "l = [1, 2, 4, 5]\n",
    "l.insert(2, 3)\n",
    "print(l)"
   ]
  },
  {
   "cell_type": "markdown",
   "metadata": {},
   "source": [
    "### Переворачивание списка"
   ]
  },
  {
   "cell_type": "markdown",
   "metadata": {},
   "source": [
    "Метод `reverse` переворачивает список:"
   ]
  },
  {
   "cell_type": "code",
   "execution_count": 29,
   "metadata": {
    "collapsed": false
   },
   "outputs": [
    {
     "name": "stdout",
     "output_type": "stream",
     "text": [
      "[2, 5, 2, 4, 1]\n"
     ]
    }
   ],
   "source": [
    "a = [1, 4, 2, 5, 2]\n",
    "a.reverse()\n",
    "print(a)"
   ]
  }
 ],
 "metadata": {
  "kernelspec": {
   "display_name": "Python 3",
   "language": "python",
   "name": "python3"
  },
  "language_info": {
   "codemirror_mode": {
    "name": "ipython",
    "version": 3
   },
   "file_extension": ".py",
   "mimetype": "text/x-python",
   "name": "python",
   "nbconvert_exporter": "python",
   "pygments_lexer": "ipython3",
   "version": "3.5.2"
  },
  "toc": {
   "base_numbering": 1,
   "nav_menu": {},
   "number_sections": false,
   "sideBar": true,
   "skip_h1_title": true,
   "title_cell": "Содержание",
   "title_sidebar": "Содержание",
   "toc_cell": true,
   "toc_position": {},
   "toc_section_display": true,
   "toc_window_display": true
  }
 },
 "nbformat": 4,
 "nbformat_minor": 2
}
