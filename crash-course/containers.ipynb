{
 "cells": [
  {
   "cell_type": "markdown",
   "metadata": {
    "toc": true
   },
   "source": [
    "<h1>Содержание<span class=\"tocSkip\"></span></h1>\n",
    "<div class=\"toc\"><ul class=\"toc-item\"><li><span><a href=\"#Множество-(set)\" data-toc-modified-id=\"Множество-(set)-1\">Множество (set)</a></span><ul class=\"toc-item\"><li><span><a href=\"#Создание-множества\" data-toc-modified-id=\"Создание-множества-1.1\">Создание множества</a></span><ul class=\"toc-item\"><li><span><a href=\"#Приведение-к-списку\" data-toc-modified-id=\"Приведение-к-списку-1.1.1\">Приведение к списку</a></span></li><li><span><a href=\"#Генератор-множества\" data-toc-modified-id=\"Генератор-множества-1.1.2\">Генератор множества</a></span></li></ul></li><li><span><a href=\"#Стандартные-операции\" data-toc-modified-id=\"Стандартные-операции-1.2\">Стандартные операции</a></span><ul class=\"toc-item\"><li><span><a href=\"#Вхождение-элемента-в-множество\" data-toc-modified-id=\"Вхождение-элемента-в-множество-1.2.1\">Вхождение элемента в множество</a></span></li><li><span><a href=\"#Удаление-элемента\" data-toc-modified-id=\"Удаление-элемента-1.2.2\">Удаление элемента</a></span></li><li><span><a href=\"#Размер-множества\" data-toc-modified-id=\"Размер-множества-1.2.3\">Размер множества</a></span></li><li><span><a href=\"#Проход-по-множеству\" data-toc-modified-id=\"Проход-по-множеству-1.2.4\">Проход по множеству</a></span></li></ul></li><li><span><a href=\"#Операции-над-двумя-множествами\" data-toc-modified-id=\"Операции-над-двумя-множествами-1.3\">Операции над двумя множествами</a></span><ul class=\"toc-item\"><li><span><a href=\"#Объединение\" data-toc-modified-id=\"Объединение-1.3.1\">Объединение</a></span></li><li><span><a href=\"#Разность\" data-toc-modified-id=\"Разность-1.3.2\">Разность</a></span></li><li><span><a href=\"#Пересечение\" data-toc-modified-id=\"Пересечение-1.3.3\">Пересечение</a></span></li><li><span><a href=\"#Симметрическая-разность\" data-toc-modified-id=\"Симметрическая-разность-1.3.4\">Симметрическая разность</a></span></li><li><span><a href=\"#Сравнение\" data-toc-modified-id=\"Сравнение-1.3.5\">Сравнение</a></span></li></ul></li></ul></li><li><span><a href=\"#Словарь-(dict)\" data-toc-modified-id=\"Словарь-(dict)-2\">Словарь (dict)</a></span><ul class=\"toc-item\"><li><span><a href=\"#Создание-словаря\" data-toc-modified-id=\"Создание-словаря-2.1\">Создание словаря</a></span></li><li><span><a href=\"#Стандартные-операции\" data-toc-modified-id=\"Стандартные-операции-2.2\">Стандартные операции</a></span><ul class=\"toc-item\"><li><span><a href=\"#Добавление-элемента\" data-toc-modified-id=\"Добавление-элемента-2.2.1\">Добавление элемента</a></span></li><li><span><a href=\"#Изменение-элемента\" data-toc-modified-id=\"Изменение-элемента-2.2.2\">Изменение элемента</a></span></li><li><span><a href=\"#Удаление-элемента\" data-toc-modified-id=\"Удаление-элемента-2.2.3\">Удаление элемента</a></span></li><li><span><a href=\"#Обращение-к-элементам\" data-toc-modified-id=\"Обращение-к-элементам-2.2.4\">Обращение к элементам</a></span></li><li><span><a href=\"#Размер-словаря\" data-toc-modified-id=\"Размер-словаря-2.2.5\">Размер словаря</a></span></li><li><span><a href=\"#Проход-по-словарю\" data-toc-modified-id=\"Проход-по-словарю-2.2.6\">Проход по словарю</a></span></li></ul></li><li><span><a href=\"#Пример-использования\" data-toc-modified-id=\"Пример-использования-2.3\">Пример использования</a></span></li></ul></li></ul></div>"
   ]
  },
  {
   "cell_type": "markdown",
   "metadata": {},
   "source": [
    "# Контейнеры"
   ]
  },
  {
   "cell_type": "markdown",
   "metadata": {},
   "source": [
    "## Множество (set)"
   ]
  },
  {
   "cell_type": "markdown",
   "metadata": {},
   "source": [
    "**Set** — это множество, в котором элементы не повторяются. Элементы множества никак не упорядочены."
   ]
  },
  {
   "cell_type": "markdown",
   "metadata": {},
   "source": [
    "### Создание множества"
   ]
  },
  {
   "cell_type": "code",
   "execution_count": 1,
   "metadata": {},
   "outputs": [
    {
     "name": "stdout",
     "output_type": "stream",
     "text": [
      "{3} {5}\n"
     ]
    }
   ],
   "source": [
    "a = set()\n",
    "a.add(3)  # Добавление элемента, O(1)\n",
    "b = {5}\n",
    "print(a, b)"
   ]
  },
  {
   "cell_type": "code",
   "execution_count": 2,
   "metadata": {},
   "outputs": [
    {
     "name": "stdout",
     "output_type": "stream",
     "text": [
      "{2, 4, 6}\n"
     ]
    }
   ],
   "source": [
    "c = {4, 4, 2, 6}  # Элементы не повторяются\n",
    "print(c)  # Порядок элементов не важен"
   ]
  },
  {
   "cell_type": "markdown",
   "metadata": {},
   "source": [
    "#### Приведение к списку"
   ]
  },
  {
   "cell_type": "markdown",
   "metadata": {},
   "source": [
    "Можно приводить список к множеству или множество к списку:"
   ]
  },
  {
   "cell_type": "code",
   "execution_count": 3,
   "metadata": {
    "scrolled": true
   },
   "outputs": [
    {
     "name": "stdout",
     "output_type": "stream",
     "text": [
      "{8, 1, 3}\n",
      "[8, 1, 3]\n"
     ]
    }
   ],
   "source": [
    "lst = [8, 1, 3, 3, 8]\n",
    "a = set(lst)  # Приведение списка к множеству (выкинули повторения)\n",
    "print(a)\n",
    "\n",
    "print(list(a))  # Приведение множества к списку"
   ]
  },
  {
   "cell_type": "markdown",
   "metadata": {},
   "source": [
    "#### Генератор множества"
   ]
  },
  {
   "cell_type": "code",
   "execution_count": 4,
   "metadata": {},
   "outputs": [
    {
     "name": "stdout",
     "output_type": "stream",
     "text": [
      "{0, 1, 64, 4, 36, 9, 16, 49, 81, 25}\n"
     ]
    }
   ],
   "source": [
    "a = {i ** 2 for i in range(10)}\n",
    "print(a)"
   ]
  },
  {
   "cell_type": "markdown",
   "metadata": {},
   "source": [
    "### Стандартные операции"
   ]
  },
  {
   "cell_type": "markdown",
   "metadata": {},
   "source": [
    "#### Вхождение элемента в множество"
   ]
  },
  {
   "cell_type": "markdown",
   "metadata": {},
   "source": [
    "Чтобы проверить, находится ли элемент в множестве, можно использовать оператор `in`. В среднем такая проверка занимает O(1)."
   ]
  },
  {
   "cell_type": "code",
   "execution_count": 5,
   "metadata": {
    "scrolled": false
   },
   "outputs": [
    {
     "name": "stdout",
     "output_type": "stream",
     "text": [
      "{4, 5}\n",
      "True\n",
      "NO\n"
     ]
    }
   ],
   "source": [
    "b = {4, 5}\n",
    "print(b)\n",
    "\n",
    "print(5 in b)\n",
    "if 8 in b:\n",
    "    print(\"YES\")\n",
    "else:\n",
    "    print(\"NO\")"
   ]
  },
  {
   "cell_type": "markdown",
   "metadata": {},
   "source": [
    "#### Удаление элемента"
   ]
  },
  {
   "cell_type": "markdown",
   "metadata": {},
   "source": [
    "Удаление элемента из множества, в среднем за O(1):"
   ]
  },
  {
   "cell_type": "code",
   "execution_count": 6,
   "metadata": {
    "scrolled": false
   },
   "outputs": [
    {
     "name": "stdout",
     "output_type": "stream",
     "text": [
      "{1, 2, 4, 6}\n",
      "{1, 2, 6}\n",
      "{1, 2, 6}\n"
     ]
    },
    {
     "ename": "KeyError",
     "evalue": "8000",
     "output_type": "error",
     "traceback": [
      "\u001b[0;31m---------------------------------------------------------------------------\u001b[0m",
      "\u001b[0;31mKeyError\u001b[0m                                  Traceback (most recent call last)",
      "\u001b[0;32m<ipython-input-6-5a1c791a6e29>\u001b[0m in \u001b[0;36m<module>\u001b[0;34m()\u001b[0m\n\u001b[1;32m      7\u001b[0m \u001b[0ma\u001b[0m\u001b[0;34m.\u001b[0m\u001b[0mdiscard\u001b[0m\u001b[0;34m(\u001b[0m\u001b[0;36m8000\u001b[0m\u001b[0;34m)\u001b[0m  \u001b[0;31m# Игнорирует команду, если элемента нет\u001b[0m\u001b[0;34m\u001b[0m\u001b[0m\n\u001b[1;32m      8\u001b[0m \u001b[0mprint\u001b[0m\u001b[0;34m(\u001b[0m\u001b[0ma\u001b[0m\u001b[0;34m)\u001b[0m\u001b[0;34m\u001b[0m\u001b[0m\n\u001b[0;32m----> 9\u001b[0;31m \u001b[0ma\u001b[0m\u001b[0;34m.\u001b[0m\u001b[0mremove\u001b[0m\u001b[0;34m(\u001b[0m\u001b[0;36m8000\u001b[0m\u001b[0;34m)\u001b[0m  \u001b[0;31m# Кидает ошибку, если элемента нет\u001b[0m\u001b[0;34m\u001b[0m\u001b[0m\n\u001b[0m\u001b[1;32m     10\u001b[0m \u001b[0mprint\u001b[0m\u001b[0;34m(\u001b[0m\u001b[0ma\u001b[0m\u001b[0;34m)\u001b[0m\u001b[0;34m\u001b[0m\u001b[0m\n",
      "\u001b[0;31mKeyError\u001b[0m: 8000"
     ]
    }
   ],
   "source": [
    "a = {1, 2, 4, 5, 6}\n",
    "a.discard(5)\n",
    "print(a)\n",
    "a.remove(4)\n",
    "print(a)\n",
    "\n",
    "a.discard(8000)  # Игнорирует команду, если элемента нет\n",
    "print(a)\n",
    "a.remove(8000)  # Кидает ошибку, если элемента нет\n",
    "print(a)"
   ]
  },
  {
   "cell_type": "markdown",
   "metadata": {},
   "source": [
    "#### Размер множества"
   ]
  },
  {
   "cell_type": "markdown",
   "metadata": {},
   "source": [
    "Вычисление размера (мощности) множества:"
   ]
  },
  {
   "cell_type": "code",
   "execution_count": 7,
   "metadata": {
    "scrolled": true
   },
   "outputs": [
    {
     "name": "stdout",
     "output_type": "stream",
     "text": [
      "2\n"
     ]
    }
   ],
   "source": [
    "b = {4, 5}\n",
    "print(len(b))"
   ]
  },
  {
   "cell_type": "markdown",
   "metadata": {},
   "source": [
    "#### Проход по множеству"
   ]
  },
  {
   "cell_type": "code",
   "execution_count": 8,
   "metadata": {},
   "outputs": [
    {
     "name": "stdout",
     "output_type": "stream",
     "text": [
      "1 2 3 6 9 \n",
      "1 2 3 6 9 "
     ]
    }
   ],
   "source": [
    "a = {1, 2, 6, 9, 3}\n",
    "\n",
    "for elem in a:\n",
    "    print(elem, end=\" \")\n",
    "print()\n",
    "\n",
    "while a:\n",
    "    elem = a.pop()  # Вытаскивает элемент из множества\n",
    "    print(elem, end=\" \")"
   ]
  },
  {
   "cell_type": "markdown",
   "metadata": {},
   "source": [
    "### Операции над двумя множествами"
   ]
  },
  {
   "cell_type": "markdown",
   "metadata": {},
   "source": [
    "#### Объединение"
   ]
  },
  {
   "cell_type": "markdown",
   "metadata": {},
   "source": [
    "В объединение входят элементы, которые есть или в первом, или во втором множестве. В среднем работает за O(len(A) + len(B))."
   ]
  },
  {
   "cell_type": "code",
   "execution_count": 9,
   "metadata": {},
   "outputs": [
    {
     "name": "stdout",
     "output_type": "stream",
     "text": [
      "{2, 3, 4, 5}\n"
     ]
    }
   ],
   "source": [
    "a = {2, 3, 4}\n",
    "b = {5, 2}\n",
    "print(a | b)"
   ]
  },
  {
   "cell_type": "markdown",
   "metadata": {},
   "source": [
    "#### Разность"
   ]
  },
  {
   "cell_type": "markdown",
   "metadata": {},
   "source": [
    "Из элементов первого множества вычёркиваются элементы второго множества. В среднем работает за O(len(A))."
   ]
  },
  {
   "cell_type": "code",
   "execution_count": 10,
   "metadata": {},
   "outputs": [
    {
     "name": "stdout",
     "output_type": "stream",
     "text": [
      "{3, 4}\n"
     ]
    }
   ],
   "source": [
    "a = {2, 3, 4}\n",
    "b = {5, 2}\n",
    "print(a - b)"
   ]
  },
  {
   "cell_type": "markdown",
   "metadata": {},
   "source": [
    "#### Пересечение"
   ]
  },
  {
   "cell_type": "markdown",
   "metadata": {},
   "source": [
    "В пересечение входят только те элементы, которые есть и в первом, и во втором множестве. В среднем работает за O(min(len(A), len(B)))."
   ]
  },
  {
   "cell_type": "code",
   "execution_count": 11,
   "metadata": {},
   "outputs": [
    {
     "name": "stdout",
     "output_type": "stream",
     "text": [
      "{2}\n"
     ]
    }
   ],
   "source": [
    "a = {2, 3, 4}\n",
    "b = {5, 2}\n",
    "print(a & b)"
   ]
  },
  {
   "cell_type": "markdown",
   "metadata": {},
   "source": [
    "#### Симметрическая разность"
   ]
  },
  {
   "cell_type": "markdown",
   "metadata": {},
   "source": [
    "Элементы входят либо только в первое, либо только во второе множество. В среднем работает за O(len(A) + len(B))."
   ]
  },
  {
   "cell_type": "code",
   "execution_count": 12,
   "metadata": {},
   "outputs": [
    {
     "name": "stdout",
     "output_type": "stream",
     "text": [
      "{3, 4, 5}\n"
     ]
    }
   ],
   "source": [
    "a = {2, 3, 4}\n",
    "b = {5, 2}\n",
    "print(a ^ b)"
   ]
  },
  {
   "cell_type": "markdown",
   "metadata": {},
   "source": [
    "#### Сравнение"
   ]
  },
  {
   "cell_type": "markdown",
   "metadata": {},
   "source": [
    "В питоне два множества можно сравнить. Множество A меньше множества B, если все элементы множества A содержатся в множестве B, и при этом A != B. Сравнения выполняются за O(len(A) + len(B))."
   ]
  },
  {
   "cell_type": "code",
   "execution_count": 13,
   "metadata": {
    "scrolled": true
   },
   "outputs": [
    {
     "name": "stdout",
     "output_type": "stream",
     "text": [
      "False\n",
      "True\n",
      "True\n",
      "False\n"
     ]
    }
   ],
   "source": [
    "a = {2, 3, 4}\n",
    "b = {3, 4}\n",
    "\n",
    "# Сравнения\n",
    "print(a < b)\n",
    "print(a > b)\n",
    "print(a >= b)\n",
    "print(a == b)"
   ]
  },
  {
   "cell_type": "markdown",
   "metadata": {},
   "source": [
    "## Словарь (dict)"
   ]
  },
  {
   "cell_type": "markdown",
   "metadata": {},
   "source": [
    "**Словари** — это пары (ключ, значение)."
   ]
  },
  {
   "cell_type": "markdown",
   "metadata": {},
   "source": [
    "### Создание словаря"
   ]
  },
  {
   "cell_type": "code",
   "execution_count": 14,
   "metadata": {},
   "outputs": [
    {
     "name": "stdout",
     "output_type": "stream",
     "text": [
      "{}\n",
      "{1: 3, '4': 8}\n",
      "{}\n",
      "{1: 2, 'a': 13}\n",
      "{'one': 1, 'two': 2}\n",
      "\n"
     ]
    }
   ],
   "source": [
    "a = {}\n",
    "b = {1: 3, \"4\": 8}\n",
    "c = dict()\n",
    "d = dict(((1, 2), (\"a\", 13)))\n",
    "e = dict(one=1, two=2)\n",
    "print(a, b, c, d, e, sep=\"\\n\", end=\"\\n\\n\")"
   ]
  },
  {
   "cell_type": "markdown",
   "metadata": {},
   "source": [
    "### Стандартные операции"
   ]
  },
  {
   "cell_type": "markdown",
   "metadata": {},
   "source": [
    "#### Добавление элемента"
   ]
  },
  {
   "cell_type": "code",
   "execution_count": 15,
   "metadata": {
    "run_control": {
     "marked": false
    },
    "scrolled": true
   },
   "outputs": [
    {
     "name": "stdout",
     "output_type": "stream",
     "text": [
      "{'hello': 'world'}\n"
     ]
    }
   ],
   "source": [
    "a = {}\n",
    "a['hello'] = 'world'  # Добавление элемента, O(1)\n",
    "print(a)"
   ]
  },
  {
   "cell_type": "markdown",
   "metadata": {},
   "source": [
    "#### Изменение элемента"
   ]
  },
  {
   "cell_type": "code",
   "execution_count": 16,
   "metadata": {},
   "outputs": [
    {
     "name": "stdout",
     "output_type": "stream",
     "text": [
      "{'one': 8, 'two': 2}\n"
     ]
    }
   ],
   "source": [
    "a = {'one': 1, 'two': 2}\n",
    "a['one'] = 8  # Изменение элемента, O(1)\n",
    "print(a)"
   ]
  },
  {
   "cell_type": "markdown",
   "metadata": {},
   "source": [
    "####  Удаление элемента"
   ]
  },
  {
   "cell_type": "code",
   "execution_count": 17,
   "metadata": {},
   "outputs": [
    {
     "name": "stdout",
     "output_type": "stream",
     "text": [
      "{'one': 1}\n"
     ]
    }
   ],
   "source": [
    "a = {'one': 1, 'two': 2}\n",
    "a.pop('two')  # Удаление элемента, O(1)\n",
    "print(a)"
   ]
  },
  {
   "cell_type": "markdown",
   "metadata": {},
   "source": [
    "#### Обращение к элементам"
   ]
  },
  {
   "cell_type": "code",
   "execution_count": 18,
   "metadata": {
    "scrolled": false
   },
   "outputs": [
    {
     "name": "stdout",
     "output_type": "stream",
     "text": [
      "3 13 8\n",
      "None 0\n"
     ]
    },
    {
     "ename": "KeyError",
     "evalue": "0",
     "output_type": "error",
     "traceback": [
      "\u001b[0;31m---------------------------------------------------------------------------\u001b[0m",
      "\u001b[0;31mKeyError\u001b[0m                                  Traceback (most recent call last)",
      "\u001b[0;32m<ipython-input-18-2c42e8e831b1>\u001b[0m in \u001b[0;36m<module>\u001b[0;34m()\u001b[0m\n\u001b[1;32m      2\u001b[0m \u001b[0mprint\u001b[0m\u001b[0;34m(\u001b[0m\u001b[0mb\u001b[0m\u001b[0;34m[\u001b[0m\u001b[0;36m1\u001b[0m\u001b[0;34m]\u001b[0m\u001b[0;34m,\u001b[0m \u001b[0mb\u001b[0m\u001b[0;34m[\u001b[0m\u001b[0;34m'a'\u001b[0m\u001b[0;34m]\u001b[0m\u001b[0;34m,\u001b[0m \u001b[0mb\u001b[0m\u001b[0;34m.\u001b[0m\u001b[0mget\u001b[0m\u001b[0;34m(\u001b[0m\u001b[0;34m'4'\u001b[0m\u001b[0;34m)\u001b[0m\u001b[0;34m)\u001b[0m  \u001b[0;31m# Существующие элементы\u001b[0m\u001b[0;34m\u001b[0m\u001b[0m\n\u001b[1;32m      3\u001b[0m \u001b[0mprint\u001b[0m\u001b[0;34m(\u001b[0m\u001b[0mb\u001b[0m\u001b[0;34m.\u001b[0m\u001b[0mget\u001b[0m\u001b[0;34m(\u001b[0m\u001b[0;34m'8'\u001b[0m\u001b[0;34m)\u001b[0m\u001b[0;34m,\u001b[0m \u001b[0mb\u001b[0m\u001b[0;34m.\u001b[0m\u001b[0mget\u001b[0m\u001b[0;34m(\u001b[0m\u001b[0;34m'three'\u001b[0m\u001b[0;34m,\u001b[0m \u001b[0;36m0\u001b[0m\u001b[0;34m)\u001b[0m\u001b[0;34m)\u001b[0m  \u001b[0;31m# Несуществующие элементы со значением по умолчанию\u001b[0m\u001b[0;34m\u001b[0m\u001b[0m\n\u001b[0;32m----> 4\u001b[0;31m \u001b[0mprint\u001b[0m\u001b[0;34m(\u001b[0m\u001b[0mb\u001b[0m\u001b[0;34m[\u001b[0m\u001b[0;36m0\u001b[0m\u001b[0;34m]\u001b[0m\u001b[0;34m)\u001b[0m  \u001b[0;31m# b[0] - KeyError\u001b[0m\u001b[0;34m\u001b[0m\u001b[0m\n\u001b[0m",
      "\u001b[0;31mKeyError\u001b[0m: 0"
     ]
    }
   ],
   "source": [
    "b = {1: 3, '4': 8, 'a': 13}\n",
    "print(b[1], b['a'], b.get('4'))  # Существующие элементы\n",
    "print(b.get('8'), b.get('three', 0))  # Несуществующие элементы со значением по умолчанию\n",
    "print(b[0])  # b[0] - KeyError"
   ]
  },
  {
   "cell_type": "markdown",
   "metadata": {},
   "source": [
    "#### Размер словаря"
   ]
  },
  {
   "cell_type": "code",
   "execution_count": 19,
   "metadata": {},
   "outputs": [
    {
     "name": "stdout",
     "output_type": "stream",
     "text": [
      "3\n"
     ]
    }
   ],
   "source": [
    "a = {\"a\": 18, \"b\": 10, \"c\": 13}\n",
    "print(len(a))"
   ]
  },
  {
   "cell_type": "markdown",
   "metadata": {},
   "source": [
    "#### Проход по словарю"
   ]
  },
  {
   "cell_type": "markdown",
   "metadata": {},
   "source": [
    "* dict.items() - кортежи из пар (ключ, значение)\n",
    "* dict.keys() - список ключей\n",
    "* dict.values() - список значений"
   ]
  },
  {
   "cell_type": "code",
   "execution_count": 20,
   "metadata": {},
   "outputs": [
    {
     "name": "stdout",
     "output_type": "stream",
     "text": [
      "a: 18\n",
      "b: 10\n",
      "c: 13\n",
      "\n",
      "a b c \n",
      "18 10 13 \n"
     ]
    }
   ],
   "source": [
    "a = {\"a\": 18, \"b\": 10, \"c\": 13}\n",
    "\n",
    "for x, y in a.items():\n",
    "    print(\"%s: %s\" % (x, y))\n",
    "print()\n",
    "\n",
    "for x in a.keys():\n",
    "    print(x, end=\" \")\n",
    "print()\n",
    "\n",
    "for x in a.values():\n",
    "    print(x, end=\" \")\n",
    "print()"
   ]
  },
  {
   "cell_type": "markdown",
   "metadata": {},
   "source": [
    "### Пример использования"
   ]
  },
  {
   "cell_type": "code",
   "execution_count": 21,
   "metadata": {},
   "outputs": [
    {
     "name": "stdout",
     "output_type": "stream",
     "text": [
      "{'5': 4, '2': 5, '1': 4, '0': 1, '3': 3}\n"
     ]
    }
   ],
   "source": [
    "to_sort = [\"5\", \"2\", \"2\", \"2\", \"1\", \"1\", \"1\", \"0\", \"3\", \"3\", \"2\", \"2\", \"5\", \"5\", \"5\", \"3\", \"1\"]\n",
    "\n",
    "count_sort = {}\n",
    "for elem in to_sort:\n",
    "    count_sort[elem] = count_sort.get(elem, 0) + 1\n",
    "\n",
    "print(count_sort)"
   ]
  }
 ],
 "metadata": {
  "kernelspec": {
   "display_name": "Python 3",
   "language": "python",
   "name": "python3"
  },
  "language_info": {
   "codemirror_mode": {
    "name": "ipython",
    "version": 3
   },
   "file_extension": ".py",
   "mimetype": "text/x-python",
   "name": "python",
   "nbconvert_exporter": "python",
   "pygments_lexer": "ipython3",
   "version": "3.6.3"
  },
  "toc": {
   "base_numbering": 1,
   "nav_menu": {},
   "number_sections": false,
   "sideBar": true,
   "skip_h1_title": true,
   "title_cell": "Содержание",
   "title_sidebar": "Содержание",
   "toc_cell": true,
   "toc_position": {},
   "toc_section_display": true,
   "toc_window_display": true
  }
 },
 "nbformat": 4,
 "nbformat_minor": 2
}
