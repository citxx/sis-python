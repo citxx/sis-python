{
 "cells": [
  {
   "cell_type": "markdown",
   "metadata": {
    "toc": true
   },
   "source": [
    "<h1>Содержание<span class=\"tocSkip\"></span></h1>\n",
    "<div class=\"toc\"><ul class=\"toc-item\"><li><span><a href=\"#Создание-двумерного-списка\" data-toc-modified-id=\"Создание-двумерного-списка-1\">Создание двумерного списка</a></span></li><li><span><a href=\"#Доступ-и-изменение-элементов\" data-toc-modified-id=\"Доступ-и-изменение-элементов-2\">Доступ и изменение элементов</a></span></li><li><span><a href=\"#Создание-матрицы-n-x-m\" data-toc-modified-id=\"Создание-матрицы-n-x-m-3\">Создание матрицы n x m</a></span></li><li><span><a href=\"#Ввод-матрицы\" data-toc-modified-id=\"Ввод-матрицы-4\">Ввод матрицы</a></span></li></ul></div>"
   ]
  },
  {
   "cell_type": "markdown",
   "metadata": {},
   "source": [
    "# Двумерные списки"
   ]
  },
  {
   "cell_type": "markdown",
   "metadata": {},
   "source": [
    "## Создание двумерного списка"
   ]
  },
  {
   "cell_type": "markdown",
   "metadata": {},
   "source": [
    "Двумерный список — это список, внутри которого хранятся другие списки. Создается он очень просто:"
   ]
  },
  {
   "cell_type": "code",
   "execution_count": 4,
   "metadata": {
    "collapsed": true
   },
   "outputs": [],
   "source": [
    "lst_2d = [\n",
    "    [2, 4, 'unicorn'],\n",
    "    [False, 39],\n",
    "    [None],\n",
    "]"
   ]
  },
  {
   "cell_type": "markdown",
   "metadata": {},
   "source": [
    "Похожим образом можно сделать трёхмерный список."
   ]
  },
  {
   "cell_type": "code",
   "execution_count": 2,
   "metadata": {
    "collapsed": true
   },
   "outputs": [],
   "source": [
    "lst_3d = [\n",
    "    [[1, 1, 2], [3, 5], [8, 13]],\n",
    "    [[21, 34], [55]]\n",
    "]"
   ]
  },
  {
   "cell_type": "markdown",
   "metadata": {},
   "source": [
    "Чаще всего используются двумерные списки с равным количеством элементов в каждой строке. Такой двумерный список можно называть матрицей."
   ]
  },
  {
   "cell_type": "code",
   "execution_count": 7,
   "metadata": {
    "collapsed": true
   },
   "outputs": [],
   "source": [
    "matrix = [\n",
    "    [0, 0, 1, 5],\n",
    "    [1, 0, 2, 0],\n",
    "    [0, 3, 1, 0],\n",
    "]"
   ]
  },
  {
   "cell_type": "markdown",
   "metadata": {},
   "source": [
    "## Доступ и изменение элементов"
   ]
  },
  {
   "cell_type": "markdown",
   "metadata": {},
   "source": [
    "Изменить или получить элемент матрицы можно так:"
   ]
  },
  {
   "cell_type": "code",
   "execution_count": 8,
   "metadata": {
    "collapsed": false
   },
   "outputs": [
    {
     "name": "stdout",
     "output_type": "stream",
     "text": [
      "2\n",
      "0 9 1 5\n",
      "1 0 2 0\n",
      "0 3 1 0\n"
     ]
    }
   ],
   "source": [
    "matrix = [\n",
    "    [0, 0, 1, 5],\n",
    "    [1, 0, 2, 0],\n",
    "    [0, 3, 1, 0],\n",
    "]\n",
    "\n",
    "print(matrix[1][2])\n",
    "matrix[0][1] = 9\n",
    "for row in matrix:\n",
    "    print(*row)"
   ]
  },
  {
   "cell_type": "markdown",
   "metadata": {},
   "source": [
    "## Создание матрицы n x m"
   ]
  },
  {
   "cell_type": "markdown",
   "metadata": {},
   "source": [
    "Теперь представим, что нам нужно заполнить матрицу c `n` строками и `m` столбцами нулями. Интуитивным выглядит такой способ:"
   ]
  },
  {
   "cell_type": "code",
   "execution_count": 4,
   "metadata": {
    "collapsed": true
   },
   "outputs": [],
   "source": [
    "n, m  = 3, 4\n",
    "matrix = [[0] * m] * n"
   ]
  },
  {
   "cell_type": "markdown",
   "metadata": {},
   "source": [
    "Но не все так просто..."
   ]
  },
  {
   "cell_type": "code",
   "execution_count": 9,
   "metadata": {
    "collapsed": false
   },
   "outputs": [
    {
     "name": "stdout",
     "output_type": "stream",
     "text": [
      "0 0 1 0\n",
      "0 0 1 0\n",
      "0 0 1 0\n"
     ]
    }
   ],
   "source": [
    "n, m = 3, 4\n",
    "matrix = [[0] * m] * n\n",
    "\n",
    "# Изменяем третий элемент во второй строке\n",
    "matrix[1][2] = 1\n",
    "\n",
    "for row in matrix:\n",
    "    print(*row)"
   ]
  },
  {
   "cell_type": "markdown",
   "metadata": {},
   "source": [
    "Изменилась не только вторая строка, но и все остальные. Так произошло, потому что после повторения списка каждая строка указывает на один и тот же массив."
   ]
  },
  {
   "cell_type": "markdown",
   "metadata": {},
   "source": [
    "Чтобы этого избежать, нужно использовать [генератор списков](generators.html)"
   ]
  },
  {
   "cell_type": "code",
   "execution_count": 12,
   "metadata": {
    "collapsed": false
   },
   "outputs": [
    {
     "name": "stdout",
     "output_type": "stream",
     "text": [
      "0 0 0 0\n",
      "0 0 1 0\n",
      "0 0 0 0\n"
     ]
    }
   ],
   "source": [
    "n, m = 3, 4\n",
    "matrix = [[0] * m for i in range(n)]\n",
    "\n",
    "matrix[1][2] = 1\n",
    "\n",
    "for row in matrix:\n",
    "    print(*row)"
   ]
  },
  {
   "cell_type": "markdown",
   "metadata": {},
   "source": [
    "## Ввод матрицы"
   ]
  },
  {
   "cell_type": "markdown",
   "metadata": {},
   "source": [
    "Обычно матрица задаётся в таком виде:\n",
    "\n",
    "```\n",
    "3 4\n",
    "1 2 3 0\n",
    "5 7 9 2\n",
    "1 2 1 1\n",
    "```\n",
    "\n",
    "Превые два числа — количество строк и столбцов."
   ]
  },
  {
   "cell_type": "markdown",
   "metadata": {},
   "source": [
    "Считывать это можно так:"
   ]
  },
  {
   "cell_type": "code",
   "execution_count": 15,
   "metadata": {
    "collapsed": false
   },
   "outputs": [
    {
     "name": "stdout",
     "output_type": "stream",
     "text": [
      "3 4\n",
      "1 2 3 0\n",
      "5 7 9 2\n",
      "1 2 1 1\n"
     ]
    }
   ],
   "source": [
    "n, m = map(int, input().split())\n",
    "matrix = []\n",
    "for i in range(n):\n",
    "    matrix.append(list(map(int, input().split())))"
   ]
  },
  {
   "cell_type": "markdown",
   "metadata": {},
   "source": [
    "Или более кратко с помощью генератора списка:"
   ]
  },
  {
   "cell_type": "code",
   "execution_count": 14,
   "metadata": {
    "collapsed": false
   },
   "outputs": [
    {
     "name": "stdout",
     "output_type": "stream",
     "text": [
      "3 4\n",
      "1 2 3 0\n",
      "5 7 9 2\n",
      "1 2 1 1\n"
     ]
    }
   ],
   "source": [
    "n, m = map(int, input().split())\n",
    "matrix = [list(map(int, input().split())) for i in range(n)]"
   ]
  }
 ],
 "metadata": {
  "kernelspec": {
   "display_name": "Python 3",
   "language": "python",
   "name": "python3"
  },
  "language_info": {
   "codemirror_mode": {
    "name": "ipython",
    "version": 3
   },
   "file_extension": ".py",
   "mimetype": "text/x-python",
   "name": "python",
   "nbconvert_exporter": "python",
   "pygments_lexer": "ipython3",
   "version": "3.5.2"
  },
  "toc": {
   "base_numbering": 1,
   "nav_menu": {},
   "number_sections": false,
   "sideBar": true,
   "skip_h1_title": true,
   "title_cell": "Содержание",
   "title_sidebar": "Содержание",
   "toc_cell": true,
   "toc_position": {},
   "toc_section_display": true,
   "toc_window_display": false
  }
 },
 "nbformat": 4,
 "nbformat_minor": 2
}
