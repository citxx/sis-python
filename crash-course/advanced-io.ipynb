{
 "cells": [
  {
   "cell_type": "markdown",
   "metadata": {
    "toc": true
   },
   "source": [
    "<h1>Содержание<span class=\"tocSkip\"></span></h1>\n",
    "<div class=\"toc\"><ul class=\"toc-item\"><li><span><a href=\"#Ввод-двух-чисел-из-одной-строки\" data-toc-modified-id=\"Ввод-двух-чисел-из-одной-строки-1\">Ввод двух чисел из одной строки</a></span></li><li><span><a href=\"#Ввод-списка-чисел-из-одной-строки\" data-toc-modified-id=\"Ввод-списка-чисел-из-одной-строки-2\">Ввод списка чисел из одной строки</a></span></li><li><span><a href=\"#Форматированный-вывод\" data-toc-modified-id=\"Форматированный-вывод-3\">Форматированный вывод</a></span></li></ul></div>"
   ]
  },
  {
   "cell_type": "markdown",
   "metadata": {},
   "source": [
    "# Продвинутый ввод-вывод"
   ]
  },
  {
   "cell_type": "markdown",
   "metadata": {},
   "source": [
    "## Ввод двух чисел из одной строки"
   ]
  },
  {
   "cell_type": "markdown",
   "metadata": {},
   "source": [
    "Как вы могли заметить, мы так и не научились считывать два числа из одной строки. Это одна из немногих вещей, которая в Python чуть-чуть сложнее, чем в более привычных языках."
   ]
  },
  {
   "cell_type": "code",
   "execution_count": 1,
   "metadata": {
    "collapsed": false
   },
   "outputs": [
    {
     "name": "stdout",
     "output_type": "stream",
     "text": [
      "1 2\n",
      "1 <class 'int'>\n",
      "2 <class 'int'>\n"
     ]
    }
   ],
   "source": [
    "a, b = map(int, input().split())  # Так считываются 2 целых числа из одной строки\n",
    "print(a, type(a))\n",
    "print(b, type(b))"
   ]
  },
  {
   "cell_type": "markdown",
   "metadata": {},
   "source": [
    "Что происходит при выполнении этого кода:\n",
    "\n",
    "1. Вызывается функция `input` и считывается одна строка.\n",
    "1. Для считанной строки вызывается метод `split`, разбивает ее по пробелам и возвращает список полученных строк. Наши числа как раз и были записаны через пробел.\n",
    "1. Функция `map` делает новый «список», применяя функцию `int` (первый аргумент) к каждому элементу списка строк (второй аргумент). В результате получается «список» целых чисел. Слово «список» в кавычках, потому что на самом деле `map` возращает не список, объект типа `map`, который ведёт себя похожим на список образом.\n",
    "1. Происходит параллельное присваивание: переменной `a` присваивается значение первого числа в списке, переменной `b` значение второго числа.\n",
    "\n",
    "Давайте ниже напишем эквивалент этого кода, только без генератора списка. Так писать не нужно, потому что это медленно и на самом деле сложнее."
   ]
  },
  {
   "cell_type": "code",
   "execution_count": 2,
   "metadata": {
    "collapsed": false
   },
   "outputs": [
    {
     "name": "stdout",
     "output_type": "stream",
     "text": [
      "3 5\n",
      "['3', '5']\n",
      "3 <class 'int'>\n",
      "5 <class 'int'>\n"
     ]
    }
   ],
   "source": [
    "# input()\n",
    "s = input()\n",
    "\n",
    "# input().split()\n",
    "words = s.split()\n",
    "print(words)\n",
    "\n",
    "# map(int, input().split())\n",
    "numbers = []\n",
    "for word in words:\n",
    "    numbers.append(int(word))\n",
    "\n",
    "# a, b = map(int, input().split())\n",
    "a, b = numbers\n",
    "\n",
    "print(a, type(a))\n",
    "print(b, type(b))"
   ]
  },
  {
   "cell_type": "markdown",
   "metadata": {},
   "source": [
    "## Ввод списка чисел из одной строки"
   ]
  },
  {
   "cell_type": "markdown",
   "metadata": {},
   "source": [
    "Ровно таким же способов из строки считывается сколько угодно чисел. При этом надо преобразовать результат функции `map` в список `list`. Например, найдём минимум из чисел, заданных в одной строке через пробелы:"
   ]
  },
  {
   "cell_type": "code",
   "execution_count": 3,
   "metadata": {
    "collapsed": false
   },
   "outputs": [
    {
     "name": "stdout",
     "output_type": "stream",
     "text": [
      "1 2 -3 6\n",
      "-3\n"
     ]
    }
   ],
   "source": [
    "numbers = list(map(int, input().split()))\n",
    "print(min(numbers))"
   ]
  },
  {
   "cell_type": "markdown",
   "metadata": {},
   "source": [
    "Метод `strip`, применяемый к строке, убирает вокруг неё лишние пробельные символы. Строки с пробельными символами в начале или в конце строки вполне могут оказаться на входе вашей программы:"
   ]
  },
  {
   "cell_type": "code",
   "execution_count": 9,
   "metadata": {
    "collapsed": false
   },
   "outputs": [
    {
     "name": "stdout",
     "output_type": "stream",
     "text": [
      "['sdf', 'kjk', 'sd']\n",
      "['', '', '', 'sdf', 'kjk', '', '', 'sd', '', '', '']\n",
      "\n",
      "sdf kjk   sd\n",
      "['sdf', 'kjk', '', '', 'sd']\n"
     ]
    }
   ],
   "source": [
    "s = \"   sdf kjk   sd   \"\n",
    "print(s.split())  # split без параметров умеет разбивать по нескольким пробелам\n",
    "print(s.split(' '))\n",
    "print()\n",
    "\n",
    "s = s.strip()\n",
    "print(s)\n",
    "print(s.split(' '))"
   ]
  },
  {
   "cell_type": "markdown",
   "metadata": {},
   "source": [
    "## Форматированный вывод"
   ]
  },
  {
   "cell_type": "markdown",
   "metadata": {},
   "source": [
    "print и его аргументы"
   ]
  }
 ],
 "metadata": {
  "kernelspec": {
   "display_name": "Python 3",
   "language": "python",
   "name": "python3"
  },
  "language_info": {
   "codemirror_mode": {
    "name": "ipython",
    "version": 3
   },
   "file_extension": ".py",
   "mimetype": "text/x-python",
   "name": "python",
   "nbconvert_exporter": "python",
   "pygments_lexer": "ipython3",
   "version": "3.5.2"
  },
  "toc": {
   "base_numbering": 1,
   "nav_menu": {},
   "number_sections": false,
   "sideBar": true,
   "skip_h1_title": true,
   "title_cell": "Содержание",
   "title_sidebar": "Содержание",
   "toc_cell": true,
   "toc_position": {},
   "toc_section_display": true,
   "toc_window_display": true
  }
 },
 "nbformat": 4,
 "nbformat_minor": 2
}
