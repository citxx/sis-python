{
 "cells": [
  {
   "cell_type": "markdown",
   "metadata": {
    "toc": true
   },
   "source": [
    "<h1>Содержание<span class=\"tocSkip\"></span></h1>\n",
    "<div class=\"toc\"><ul class=\"toc-item\"><li><span><a href=\"#Ввод\" data-toc-modified-id=\"Ввод-1\">Ввод</a></span><ul class=\"toc-item\"><li><span><a href=\"#Ввод-списка--слов-из-одной-строки\" data-toc-modified-id=\"Ввод-списка--слов-из-одной-строки-1.1\">Ввод списка  слов из одной строки</a></span></li><li><span><a href=\"#Ввод-списка-чисел-из-одной-строки\" data-toc-modified-id=\"Ввод-списка-чисел-из-одной-строки-1.2\">Ввод списка чисел из одной строки</a></span></li><li><span><a href=\"#Ввод-двух-чисел-из-одной-строки\" data-toc-modified-id=\"Ввод-двух-чисел-из-одной-строки-1.3\">Ввод двух чисел из одной строки</a></span></li></ul></li><li><span><a href=\"#Вывод\" data-toc-modified-id=\"Вывод-2\">Вывод</a></span><ul class=\"toc-item\"><li><span><a href=\"#Аргументы-функции-print\" data-toc-modified-id=\"Аргументы-функции-print-2.1\">Аргументы функции <code>print</code></a></span></li><li><span><a href=\"#Вывод-многих-значений-в-одной-строке\" data-toc-modified-id=\"Вывод-многих-значений-в-одной-строке-2.2\">Вывод многих значений в одной строке</a></span></li><li><span><a href=\"#Форматированный-вывод\" data-toc-modified-id=\"Форматированный-вывод-2.3\">Форматированный вывод</a></span></li></ul></li></ul></div>"
   ]
  },
  {
   "cell_type": "markdown",
   "metadata": {},
   "source": [
    "# Продвинутый ввод-вывод"
   ]
  },
  {
   "cell_type": "markdown",
   "metadata": {},
   "source": [
    "## Ввод"
   ]
  },
  {
   "cell_type": "markdown",
   "metadata": {},
   "source": [
    "### Ввод списка  слов из одной строки"
   ]
  },
  {
   "cell_type": "markdown",
   "metadata": {},
   "source": [
    "Python позволяет считывать с помощью функции `input()` только всю строку целиком до следующего перевода строки.\n",
    "\n",
    "\n",
    "Но что делать, если мы хотим считать несколько значений из одной строки? В этом нам поможет метод `split()`. Давайте напишем программу, которая считывает несколько слов из одной строки и выводит их в обратном порядке:"
   ]
  },
  {
   "cell_type": "code",
   "execution_count": 8,
   "metadata": {
    "collapsed": false
   },
   "outputs": [
    {
     "name": "stdout",
     "output_type": "stream",
     "text": [
      "one two three\n",
      "three\n",
      "two\n",
      "one\n"
     ]
    }
   ],
   "source": [
    "words = input().split()\n",
    "words.reverse()\n",
    "\n",
    "# Пока выводим по одному слову в строке. Скоро научимся выводить сразу много слов в одной строке.\n",
    "for word in words:\n",
    "    print(word)"
   ]
  },
  {
   "cell_type": "markdown",
   "metadata": {},
   "source": [
    "То же самое более подробно:"
   ]
  },
  {
   "cell_type": "code",
   "execution_count": 10,
   "metadata": {
    "collapsed": false
   },
   "outputs": [
    {
     "name": "stdout",
     "output_type": "stream",
     "text": [
      "one two three\n",
      "Строка: \"one two three\"\n",
      "Список отдельных слов: ['one', 'two', 'three']\n",
      "Перевёрнутый список слов: ['three', 'two', 'one']\n",
      "three\n",
      "two\n",
      "one\n"
     ]
    }
   ],
   "source": [
    "# Считываем одну строку с клавиатуры. Она содержит все символы, включая пробелы.\n",
    "line = input()\n",
    "print('Строка: \"' + line + '\"')\n",
    "\n",
    "# Разбиваем строку по пробельным символам и получаем список слов\n",
    "words = line.split()\n",
    "print('Список отдельных слов:', words)\n",
    "\n",
    "# Переворачиваем список слов\n",
    "words.reverse()\n",
    "print('Перевёрнутый список слов:', words)\n",
    "\n",
    "# Проходим по всем словам из списка и выводим каждое\n",
    "for word in words:\n",
    "    print(word)"
   ]
  },
  {
   "cell_type": "markdown",
   "metadata": {},
   "source": [
    "**Частая ошибка** — забыть скобки после `input`:"
   ]
  },
  {
   "cell_type": "code",
   "execution_count": 12,
   "metadata": {
    "collapsed": false
   },
   "outputs": [
    {
     "ename": "AttributeError",
     "evalue": "'function' object has no attribute 'split'",
     "output_type": "error",
     "traceback": [
      "\u001b[0;31m---------------------------------------------------------------------------\u001b[0m",
      "\u001b[0;31mAttributeError\u001b[0m                            Traceback (most recent call last)",
      "\u001b[0;32m<ipython-input-12-c2a025ff0009>\u001b[0m in \u001b[0;36m<module>\u001b[0;34m()\u001b[0m\n\u001b[0;32m----> 1\u001b[0;31m \u001b[0mline\u001b[0m \u001b[0;34m=\u001b[0m \u001b[0minput\u001b[0m\u001b[0;34m.\u001b[0m\u001b[0msplit\u001b[0m\u001b[0;34m(\u001b[0m\u001b[0;34m)\u001b[0m\u001b[0;34m\u001b[0m\u001b[0m\n\u001b[0m",
      "\u001b[0;31mAttributeError\u001b[0m: 'function' object has no attribute 'split'"
     ]
    }
   ],
   "source": [
    "line = input.split()"
   ]
  },
  {
   "cell_type": "markdown",
   "metadata": {},
   "source": [
    "Ошибка переводиться с английского как `ОшибкаАтрибута: У объекта типа 'функция' нет атрибута 'split'`.\n",
    "\n",
    "Так происходит потому что:\n",
    "\n",
    "- `input` — это объект-функция (тип `function`)\n",
    "- `input()` — это вызов функции, который возращает строку (тип `str`)\n",
    "- У объектов типа `str` (строк) определён метод `split`, а у объектов типа `function` (функций) — нет\n",
    "- Мы попытались вызвать метод `split` у объекта типа `function`"
   ]
  },
  {
   "cell_type": "markdown",
   "metadata": {},
   "source": [
    "Похожая проблема произойдёт если забыть скобки после `split`."
   ]
  },
  {
   "cell_type": "markdown",
   "metadata": {},
   "source": [
    "### Ввод списка чисел из одной строки"
   ]
  },
  {
   "cell_type": "markdown",
   "metadata": {},
   "source": [
    "Чтобы считать одно число из строки, нам приходилось преобразовывать результат функции `input()` к целому числу (`int(input())`), потому что `input()` возращает строку (`str`).\n",
    "\n",
    "`input().split()` возращает список строк. Если мы хотим получить список чисел, то нам надо преобразовать каждую из этих строк в число. Самый прямолинейный способ это сделать — используя цикл:"
   ]
  },
  {
   "cell_type": "code",
   "execution_count": 19,
   "metadata": {
    "collapsed": false
   },
   "outputs": [
    {
     "name": "stdout",
     "output_type": "stream",
     "text": [
      "2018 42 3\n",
      "Числа: [2018, 42, 3]\n"
     ]
    }
   ],
   "source": [
    "words = input().split()\n",
    "\n",
    "# Преобразуем строки в числа\n",
    "numbers = []\n",
    "for word in words:\n",
    "    numbers.append(int(word))\n",
    "\n",
    "print(\"Числа:\", numbers)"
   ]
  },
  {
   "cell_type": "markdown",
   "metadata": {},
   "source": [
    "Обратите внимание на отсутствие кавычек вокруг элементов списка. Это значит, что у нас там числа, а не строки."
   ]
  },
  {
   "cell_type": "markdown",
   "metadata": {},
   "source": [
    "Но Python позволяет сделать то же самое **короче и эффективнее**, использовав немного чёрной магии:"
   ]
  },
  {
   "cell_type": "code",
   "execution_count": 20,
   "metadata": {
    "collapsed": false
   },
   "outputs": [
    {
     "name": "stdout",
     "output_type": "stream",
     "text": [
      "2018 42 3\n",
      "Числа: [2018, 42, 3]\n"
     ]
    }
   ],
   "source": [
    "# Такое считывание работает быстрее, чем предыдущий пример\n",
    "numbers = list(map(int, input().split()))\n",
    "print(\"Числа:\", numbers)"
   ]
  },
  {
   "cell_type": "markdown",
   "metadata": {},
   "source": [
    "Функция `map(func, lst)` возращает «список», полученный применением функции `func` к каждому элементу списка `lst`.\n",
    "\n",
    "Мы взяли «список» в кавычки, потому что это не совсем список, а объект типа `map`, который иногда ведёт себя также как список, а иногда — нет. Поэтому мы явно преобразуем результат в полноценный список (`list`)."
   ]
  },
  {
   "cell_type": "markdown",
   "metadata": {},
   "source": [
    "### Ввод двух чисел из одной строки"
   ]
  },
  {
   "cell_type": "markdown",
   "metadata": {},
   "source": [
    "Для этого надо считать список чисел и сделать параллельное присваивание:"
   ]
  },
  {
   "cell_type": "code",
   "execution_count": 18,
   "metadata": {
    "collapsed": false
   },
   "outputs": [
    {
     "name": "stdout",
     "output_type": "stream",
     "text": [
      "3 5\n",
      "3 <class 'int'>\n",
      "5 <class 'int'>\n"
     ]
    }
   ],
   "source": [
    "# Обратите внимание на отсутствие преобразования в список. Здесь в нём нет необходимости.\n",
    "a, b = map(int, input().split())\n",
    "print(a, type(a))\n",
    "print(b, type(b))"
   ]
  },
  {
   "cell_type": "markdown",
   "metadata": {},
   "source": [
    "Аналогично можно ввести три числа:"
   ]
  },
  {
   "cell_type": "code",
   "execution_count": 22,
   "metadata": {
    "collapsed": false
   },
   "outputs": [
    {
     "name": "stdout",
     "output_type": "stream",
     "text": [
      "5 8 13\n",
      "5 <class 'int'>\n",
      "8 <class 'int'>\n",
      "13 <class 'int'>\n"
     ]
    }
   ],
   "source": [
    "# Обратите внимание на отсутствие преобразования в список. Здесь в нём нет необходимости.\n",
    "a, b, c = map(int, input().split())\n",
    "print(a, type(a))\n",
    "print(b, type(b))\n",
    "print(c, type(c))"
   ]
  },
  {
   "cell_type": "markdown",
   "metadata": {},
   "source": [
    "Или две строки:"
   ]
  },
  {
   "cell_type": "code",
   "execution_count": 23,
   "metadata": {
    "collapsed": false
   },
   "outputs": [
    {
     "name": "stdout",
     "output_type": "stream",
     "text": [
      "Дональд Кнут\n",
      "Дональд <class 'str'>\n",
      "Кнут <class 'str'>\n"
     ]
    }
   ],
   "source": [
    "first_name, last_name = input().split()\n",
    "print(first_name, type(first_name))\n",
    "print(last_name, type(last_name))"
   ]
  },
  {
   "cell_type": "markdown",
   "metadata": {},
   "source": [
    "## Вывод"
   ]
  },
  {
   "cell_type": "markdown",
   "metadata": {},
   "source": [
    "### Аргументы функции `print`"
   ]
  },
  {
   "cell_type": "markdown",
   "metadata": {},
   "source": [
    "Как вы уже знаете, функция `print` принимает сколько угодно значений и выводит их через пробел. Но у неё есть два дополнительных аргумента:\n",
    "\n",
    "- `sep` — что выводить между значениями. По умолчанию `\" \"` (пробел). От английского separator — разделитель.\n",
    "- `end` — что выводить после последнего значениями. По умолчанию `\"\\n\"` (перевод строки).\n",
    "\n",
    "Задаются они в конце после всех аргументов:"
   ]
  },
  {
   "cell_type": "code",
   "execution_count": 26,
   "metadata": {
    "collapsed": false
   },
   "outputs": [
    {
     "name": "stdout",
     "output_type": "stream",
     "text": [
      "5.07.2018\n"
     ]
    }
   ],
   "source": [
    "day, month, year = '5', '07', '2018'\n",
    "# День месяц и год выводятся через точку, а не через пробел\n",
    "print(day, month, year, sep='.')"
   ]
  },
  {
   "cell_type": "code",
   "execution_count": 30,
   "metadata": {
    "collapsed": false
   },
   "outputs": [
    {
     "name": "stdout",
     "output_type": "stream",
     "text": [
      "This is Sparta!!!"
     ]
    }
   ],
   "source": [
    "# В конце вывелись три восклецательных знака. Между \"Sparta\" и \"!!!\" нет пробела.\n",
    "print(\"This\", \"is\", \"Sparta\", end=\"!!!\")"
   ]
  },
  {
   "cell_type": "code",
   "execution_count": 32,
   "metadata": {
    "collapsed": false
   },
   "outputs": [
    {
     "name": "stdout",
     "output_type": "stream",
     "text": [
      "1 1 2 3 5 8 13 21 \n"
     ]
    }
   ],
   "source": [
    "# Выводим список чисел в одну строку\n",
    "for x in [1, 1, 2, 3, 5, 8, 13, 21]:\n",
    "    # Заменяем end на пробел, чтобы продолжать выводить в той же строке\n",
    "    print(x, end=\" \")\n",
    "# Выводим первод строки в конце\n",
    "print()"
   ]
  },
  {
   "cell_type": "markdown",
   "metadata": {},
   "source": [
    "### Вывод многих значений в одной строке"
   ]
  },
  {
   "cell_type": "markdown",
   "metadata": {},
   "source": [
    "Выше показан способ это сделать, но он слишком многословен. Того же самого можно добиться так:"
   ]
  },
  {
   "cell_type": "code",
   "execution_count": 34,
   "metadata": {
    "collapsed": false
   },
   "outputs": [
    {
     "name": "stdout",
     "output_type": "stream",
     "text": [
      "1 1 2 3 5 8 13 21\n"
     ]
    }
   ],
   "source": [
    "numbers = [1, 1, 2, 3, 5, 8, 13, 21]\n",
    "print(*numbers)"
   ]
  },
  {
   "cell_type": "markdown",
   "metadata": {},
   "source": [
    "`print(*lst)` — это то же самое, что и передать все элементы списка функции: `print(lst[0], lst[1], ..., lst[len(lst) - 1])`."
   ]
  },
  {
   "cell_type": "markdown",
   "metadata": {},
   "source": [
    "### Форматированный вывод"
   ]
  },
  {
   "cell_type": "markdown",
   "metadata": {},
   "source": [
    "Для более сложного вывода можно воспользоваться методом `format`. Он позволяет подставить значения в произвольную строку."
   ]
  },
  {
   "cell_type": "code",
   "execution_count": 37,
   "metadata": {
    "collapsed": false
   },
   "outputs": [
    {
     "name": "stdout",
     "output_type": "stream",
     "text": [
      "8 + 13 = 21\n"
     ]
    }
   ],
   "source": [
    "a, b = 8, 13\n",
    "# Значения подставляются вместо фигурных скобок:\n",
    "print('{} + {} = {}'.format(a, b, a + b))"
   ]
  },
  {
   "cell_type": "code",
   "execution_count": 49,
   "metadata": {
    "collapsed": false
   },
   "outputs": [
    {
     "name": "stdout",
     "output_type": "stream",
     "text": [
      "3.141592653589793\n",
      "3.1416\n",
      "3.14159265358979311599796346854\n"
     ]
    }
   ],
   "source": [
    "# Получаем доступ к переменной pi из\n",
    "from math import pi\n",
    "\n",
    "# По умолчанию для дробных чисел выводиться некоторое фиксированное количество знаков после точки\n",
    "print(pi)\n",
    "\n",
    "# Так можно точно указать точность\n",
    "print('{:.5}'.format(pi))\n",
    "print('{:.30}'.format(pi))"
   ]
  },
  {
   "cell_type": "markdown",
   "metadata": {},
   "source": [
    "Более подробно про форматированный вывод можно почитать тут: `TODO`"
   ]
  }
 ],
 "metadata": {
  "kernelspec": {
   "display_name": "Python 3",
   "language": "python",
   "name": "python3"
  },
  "language_info": {
   "codemirror_mode": {
    "name": "ipython",
    "version": 3
   },
   "file_extension": ".py",
   "mimetype": "text/x-python",
   "name": "python",
   "nbconvert_exporter": "python",
   "pygments_lexer": "ipython3",
   "version": "3.5.2"
  },
  "toc": {
   "base_numbering": 1,
   "nav_menu": {},
   "number_sections": false,
   "sideBar": true,
   "skip_h1_title": true,
   "title_cell": "Содержание",
   "title_sidebar": "Содержание",
   "toc_cell": true,
   "toc_position": {},
   "toc_section_display": true,
   "toc_window_display": true
  }
 },
 "nbformat": 4,
 "nbformat_minor": 2
}
