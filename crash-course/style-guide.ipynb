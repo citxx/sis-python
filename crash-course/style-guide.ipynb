{
 "cells": [
  {
   "cell_type": "markdown",
   "metadata": {
    "toc": true
   },
   "source": [
    "<h1>Содержание<span class=\"tocSkip\"></span></h1>\n",
    "<div class=\"toc\"><ul class=\"toc-item\"><li><span><a href=\"#Форматирование\" data-toc-modified-id=\"Форматирование-1\">Форматирование</a></span><ul class=\"toc-item\"><li><span><a href=\"#Используйте-4-пробела-для-отступов\" data-toc-modified-id=\"Используйте-4-пробела-для-отступов-1.1\">Используйте 4 пробела для отступов</a></span></li><li><span><a href=\"#Никогда-не-смешивайте-пробелы-и-символы-табуляции\" data-toc-modified-id=\"Никогда-не-смешивайте-пробелы-и-символы-табуляции-1.2\">Никогда не смешивайте пробелы и символы табуляции</a></span></li><li><span><a href=\"#Не-делайте-строки-длиннее-79-символов\" data-toc-modified-id=\"Не-делайте-строки-длиннее-79-символов-1.3\">Не делайте строки длиннее 79 символов</a></span></li><li><span><a href=\"#Пишите-import-каждого-модуля-в-отдельной-строке\" data-toc-modified-id=\"Пишите-import-каждого-модуля-в-отдельной-строке-1.4\">Пишите import каждого модуля в отдельной строке</a></span></li><li><span><a href=\"#Располагайте-import'ы-в-самом-начале-файла\" data-toc-modified-id=\"Располагайте-import'ы-в-самом-начале-файла-1.5\">Располагайте import'ы в самом начале файла</a></span></li><li><span><a href=\"#Не-ставьте-пробелов-сразу-после-скобок\" data-toc-modified-id=\"Не-ставьте-пробелов-сразу-после-скобок-1.6\">Не ставьте пробелов сразу после скобок</a></span></li><li><span><a href=\"#Не-ставьте-пробелов-перед-скобками\" data-toc-modified-id=\"Не-ставьте-пробелов-перед-скобками-1.7\">Не ставьте пробелов перед скобками</a></span></li><li><span><a href=\"#Не-ставьте-пробелов-перед-запятой,-точкой-с-запятой,-двоеточием\" data-toc-modified-id=\"Не-ставьте-пробелов-перед-запятой,-точкой-с-запятой,-двоеточием-1.8\">Не ставьте пробелов перед запятой, точкой с запятой, двоеточием</a></span></li><li><span><a href=\"#Окружайте-бинарные-операторы-ровно-одним-пробелом-с-каждой-стороны\" data-toc-modified-id=\"Окружайте-бинарные-операторы-ровно-одним-пробелом-с-каждой-стороны-1.9\">Окружайте бинарные операторы ровно одним пробелом с каждой стороны</a></span></li><li><span><a href=\"#Не-пишите-в-одну-строку\" data-toc-modified-id=\"Не-пишите-в-одну-строку-1.10\">Не пишите в одну строку</a></span></li></ul></li><li><span><a href=\"#Комментарии\" data-toc-modified-id=\"Комментарии-2\">Комментарии</a></span></li><li><span><a href=\"#Имена\" data-toc-modified-id=\"Имена-3\">Имена</a></span><ul class=\"toc-item\"><li><span><a href=\"#Переменные-и-функции\" data-toc-modified-id=\"Переменные-и-функции-3.1\">Переменные и функции</a></span></li><li><span><a href=\"#Константы\" data-toc-modified-id=\"Константы-3.2\">Константы</a></span></li></ul></li><li><span><a href=\"#Сравнения\" data-toc-modified-id=\"Сравнения-4\">Сравнения</a></span><ul class=\"toc-item\"><li><span><a href=\"#Проверка-последовательности-на-пустоту\" data-toc-modified-id=\"Проверка-последовательности-на-пустоту-4.1\">Проверка последовательности на пустоту</a></span></li><li><span><a href=\"#Сравнение-с-True-и-False?!\" data-toc-modified-id=\"Сравнение-с-True-и-False?!-4.2\">Сравнение с True и False?!</a></span></li><li><span><a href=\"#Сравнение-с-None\" data-toc-modified-id=\"Сравнение-с-None-4.3\">Сравнение с None</a></span></li><li><span><a href=\"#Сравнение-с-частью-строки\" data-toc-modified-id=\"Сравнение-с-частью-строки-4.4\">Сравнение с частью строки</a></span></li></ul></li><li><span><a href=\"#Функции\" data-toc-modified-id=\"Функции-5\">Функции</a></span><ul class=\"toc-item\"><li><span><a href=\"#Исключения-из-правил\" data-toc-modified-id=\"Исключения-из-правил-5.1\">Исключения из правил</a></span></li></ul></li></ul></div>"
   ]
  },
  {
   "cell_type": "markdown",
   "metadata": {},
   "source": [
    "# Стиль"
   ]
  },
  {
   "cell_type": "markdown",
   "metadata": {},
   "source": [
    "## Форматирование"
   ]
  },
  {
   "cell_type": "markdown",
   "metadata": {},
   "source": [
    "### Используйте 4 пробела для отступов"
   ]
  },
  {
   "cell_type": "code",
   "execution_count": null,
   "metadata": {
    "collapsed": true,
    "run_control": {
     "marked": false
    }
   },
   "outputs": [],
   "source": [
    "# Правильно\n",
    "if 1 == 3:\n",
    "    print(1)\n",
    "    if 2 == 3:\n",
    "        print(2)"
   ]
  },
  {
   "cell_type": "code",
   "execution_count": null,
   "metadata": {
    "collapsed": true,
    "run_control": {
     "marked": false
    }
   },
   "outputs": [],
   "source": [
    "# Неверно\n",
    "if 1 == 3:\n",
    "   print(1)\n",
    "   if 2 == 3:\n",
    "          print(2)"
   ]
  },
  {
   "cell_type": "markdown",
   "metadata": {},
   "source": [
    "### Никогда не смешивайте пробелы и символы табуляции"
   ]
  },
  {
   "cell_type": "markdown",
   "metadata": {},
   "source": [
    "### Не делайте строки длиннее 79 символов"
   ]
  },
  {
   "cell_type": "markdown",
   "metadata": {},
   "source": [
    "Разделяйте строки на несколько с помощью заключения выражения в скобки. Это способ лучше, чем использование обратного слэша. Делайте соответствующий отступ при переносе. При разбиении строки около бинарного оператора делайте разрыв **после** него."
   ]
  },
  {
   "cell_type": "code",
   "execution_count": null,
   "metadata": {
    "collapsed": true,
    "scrolled": true
   },
   "outputs": [],
   "source": [
    "# Правильно\n",
    "var = (a * 10 +\n",
    "       b / 15)"
   ]
  },
  {
   "cell_type": "code",
   "execution_count": null,
   "metadata": {
    "collapsed": true
   },
   "outputs": [],
   "source": [
    "# Неверно\n",
    "var = a * 10 \\\n",
    "    + b / 15"
   ]
  },
  {
   "cell_type": "markdown",
   "metadata": {},
   "source": [
    "### Пишите import каждого модуля в отдельной строке"
   ]
  },
  {
   "cell_type": "code",
   "execution_count": null,
   "metadata": {
    "collapsed": true,
    "run_control": {
     "marked": false
    }
   },
   "outputs": [],
   "source": [
    "# Правильно\n",
    "import math\n",
    "import sys"
   ]
  },
  {
   "cell_type": "code",
   "execution_count": null,
   "metadata": {
    "collapsed": true
   },
   "outputs": [],
   "source": [
    "# Неверно\n",
    "import math, sys"
   ]
  },
  {
   "cell_type": "markdown",
   "metadata": {},
   "source": [
    "### Располагайте import'ы в самом начале файла"
   ]
  },
  {
   "cell_type": "code",
   "execution_count": null,
   "metadata": {
    "collapsed": true
   },
   "outputs": [],
   "source": [
    "# Правильно\n",
    "import sys\n",
    "\n",
    "N = 5\n",
    "\n",
    "def f():\n",
    "    pass"
   ]
  },
  {
   "cell_type": "code",
   "execution_count": null,
   "metadata": {
    "collapsed": true,
    "run_control": {
     "marked": false
    }
   },
   "outputs": [],
   "source": [
    "# Неверно\n",
    "N = 5\n",
    "\n",
    "import sys"
   ]
  },
  {
   "cell_type": "markdown",
   "metadata": {},
   "source": [
    "### Не ставьте пробелов сразу после скобок"
   ]
  },
  {
   "cell_type": "code",
   "execution_count": null,
   "metadata": {
    "collapsed": true
   },
   "outputs": [],
   "source": [
    "# Правильно\n",
    "spam(ham[1], {eggs: 2})"
   ]
  },
  {
   "cell_type": "code",
   "execution_count": null,
   "metadata": {
    "collapsed": true
   },
   "outputs": [],
   "source": [
    "# Неверно\n",
    "spam( ham[ 1 ], { eggs: 2 } )"
   ]
  },
  {
   "cell_type": "markdown",
   "metadata": {},
   "source": [
    "### Не ставьте пробелов перед скобками"
   ]
  },
  {
   "cell_type": "markdown",
   "metadata": {},
   "source": [
    "* Перед открывающей круглой скобкой при вызове функции\n",
    "* Перед открывающей квадратной скобкой, обозначающей индексирование или срез"
   ]
  },
  {
   "cell_type": "code",
   "execution_count": null,
   "metadata": {
    "collapsed": true
   },
   "outputs": [],
   "source": [
    "# Правильно\n",
    "spam(kind['key'], lst[1:3])"
   ]
  },
  {
   "cell_type": "code",
   "execution_count": null,
   "metadata": {
    "collapsed": true
   },
   "outputs": [],
   "source": [
    "# Неверно\n",
    "spam (kind ['key'], lst [1:3])"
   ]
  },
  {
   "cell_type": "markdown",
   "metadata": {},
   "source": [
    "### Не ставьте пробелов перед запятой, точкой с запятой, двоеточием"
   ]
  },
  {
   "cell_type": "code",
   "execution_count": null,
   "metadata": {
    "collapsed": true
   },
   "outputs": [],
   "source": [
    "# Правильно\n",
    "if x == 4:\n",
    "    print(x, y); x, y = y, x"
   ]
  },
  {
   "cell_type": "code",
   "execution_count": null,
   "metadata": {
    "collapsed": true,
    "scrolled": true
   },
   "outputs": [],
   "source": [
    "# Неверно\n",
    "if x == 4 :\n",
    "    print(x , y) ; x , y = y , x"
   ]
  },
  {
   "cell_type": "markdown",
   "metadata": {},
   "source": [
    "### Окружайте бинарные операторы ровно одним пробелом с каждой стороны"
   ]
  },
  {
   "cell_type": "markdown",
   "metadata": {},
   "source": [
    "Верно для операторов:\n",
    "\n",
    "- Присваивания (`=`, `+=`, `-=` и т.д.)\n",
    "- Сравнения (`==`, `<`, `>`, `!=`, `<=`, `>=`, `in`, `not in`, `is`, `is not`)\n",
    "- Логических (`and`, `or`, `not`)\n",
    "- Арифметических (`+`, `-`, `*`, `/`, `//` и т.д.)"
   ]
  },
  {
   "cell_type": "code",
   "execution_count": null,
   "metadata": {
    "collapsed": true
   },
   "outputs": [],
   "source": [
    "# Правильно\n",
    "a == b\n",
    "a and b\n",
    "3 + 5 * 8"
   ]
  },
  {
   "cell_type": "code",
   "execution_count": null,
   "metadata": {
    "collapsed": true,
    "scrolled": false
   },
   "outputs": [],
   "source": [
    "# Неверно\n",
    "a==b\n",
    "a  and   b\n",
    "3+5  *  8"
   ]
  },
  {
   "cell_type": "markdown",
   "metadata": {},
   "source": [
    "### Не пишите в одну строку"
   ]
  },
  {
   "cell_type": "markdown",
   "metadata": {},
   "source": [
    "Не располагайте несколько инструкций в одной строке. Разнесите их по разным строкам."
   ]
  },
  {
   "cell_type": "code",
   "execution_count": null,
   "metadata": {
    "collapsed": true
   },
   "outputs": [],
   "source": [
    "# Правильно\n",
    "x = 3\n",
    "func(10)"
   ]
  },
  {
   "cell_type": "code",
   "execution_count": null,
   "metadata": {
    "collapsed": true
   },
   "outputs": [],
   "source": [
    "# Неверно\n",
    "x = 3; func(10)"
   ]
  },
  {
   "cell_type": "markdown",
   "metadata": {},
   "source": [
    "Не располагайте блок из нескольких инструкций на той же строке сразу после двоеточия (после `if`, `while` и т.д.)"
   ]
  },
  {
   "cell_type": "code",
   "execution_count": null,
   "metadata": {
    "collapsed": true
   },
   "outputs": [],
   "source": [
    "# Правильно\n",
    "if x == 3:\n",
    "    print(x)"
   ]
  },
  {
   "cell_type": "code",
   "execution_count": null,
   "metadata": {
    "collapsed": true
   },
   "outputs": [],
   "source": [
    "# Неверно\n",
    "if x == 3: print(x)"
   ]
  },
  {
   "cell_type": "markdown",
   "metadata": {},
   "source": [
    "## Комментарии"
   ]
  },
  {
   "cell_type": "markdown",
   "metadata": {},
   "source": [
    "Комментарии, противоречащие коду, хуже, чем их отсутствие."
   ]
  },
  {
   "cell_type": "markdown",
   "metadata": {},
   "source": [
    "Располагайте однострочные комментарии после кода в той же строке и отделяйте их от кода не менее, чем двумя пробелами. Комментарии должны начинаться с `#` и одного пробела."
   ]
  },
  {
   "cell_type": "code",
   "execution_count": null,
   "metadata": {
    "collapsed": true
   },
   "outputs": [],
   "source": [
    "# Правильно\n",
    "a = 5  # правильно оформленный комментарий"
   ]
  },
  {
   "cell_type": "code",
   "execution_count": null,
   "metadata": {
    "collapsed": true
   },
   "outputs": [],
   "source": [
    "# Неверно\n",
    "a = 5 #слишком близко и без пробела"
   ]
  },
  {
   "cell_type": "markdown",
   "metadata": {},
   "source": [
    "## Имена"
   ]
  },
  {
   "cell_type": "markdown",
   "metadata": {},
   "source": [
    "Не используйте символы `l`, `O`, `I` как имена переменных. В некоторых шрифтах они очень похожи на цифры."
   ]
  },
  {
   "cell_type": "markdown",
   "metadata": {},
   "source": [
    "### Переменные и функции"
   ]
  },
  {
   "cell_type": "markdown",
   "metadata": {},
   "source": [
    "Имена **переменных** и **функций** должны содержать только маленькие буквы. Слова разделяются символами подчёркивания."
   ]
  },
  {
   "cell_type": "code",
   "execution_count": null,
   "metadata": {
    "collapsed": true
   },
   "outputs": [],
   "source": [
    "# Правильно\n",
    "name, name_from_several_words"
   ]
  },
  {
   "cell_type": "code",
   "execution_count": null,
   "metadata": {
    "collapsed": true
   },
   "outputs": [],
   "source": [
    "# Неверно\n",
    "Name, anotheRANDOMname, NAME"
   ]
  },
  {
   "cell_type": "markdown",
   "metadata": {},
   "source": [
    "### Константы"
   ]
  },
  {
   "cell_type": "markdown",
   "metadata": {},
   "source": [
    "Имена **констант** должны содержать только заглавные буквы. Слова разделяются символами подчёркивания."
   ]
  },
  {
   "cell_type": "code",
   "execution_count": null,
   "metadata": {
    "collapsed": true
   },
   "outputs": [],
   "source": [
    "# Правильно\n",
    "NAME, NAME_FROM_SEVERAL_WORDS"
   ]
  },
  {
   "cell_type": "code",
   "execution_count": null,
   "metadata": {
    "collapsed": true
   },
   "outputs": [],
   "source": [
    "# Неверно\n",
    "NAMEFROMSEVERALWORDS, name, Name"
   ]
  },
  {
   "cell_type": "markdown",
   "metadata": {},
   "source": [
    "## Сравнения"
   ]
  },
  {
   "cell_type": "markdown",
   "metadata": {},
   "source": [
    "### Проверка последовательности на пустоту"
   ]
  },
  {
   "cell_type": "markdown",
   "metadata": {},
   "source": [
    "Для последовательностей (строк, списков, кортежей) используйте факт, что пустая последовательность эквивалентна `False`."
   ]
  },
  {
   "cell_type": "code",
   "execution_count": null,
   "metadata": {
    "collapsed": true
   },
   "outputs": [],
   "source": [
    "# Правильно\n",
    "if lst:\n",
    "    print(lst[0])"
   ]
  },
  {
   "cell_type": "code",
   "execution_count": null,
   "metadata": {
    "collapsed": true
   },
   "outputs": [],
   "source": [
    "# Неверно\n",
    "if lst != []:\n",
    "    print(lst[0])"
   ]
  },
  {
   "cell_type": "markdown",
   "metadata": {},
   "source": [
    "### Сравнение с True и False?!"
   ]
  },
  {
   "cell_type": "markdown",
   "metadata": {},
   "source": [
    "Не проверяйте переменные логического типа на `True` и `False` используя `==`."
   ]
  },
  {
   "cell_type": "code",
   "execution_count": null,
   "metadata": {
    "collapsed": true
   },
   "outputs": [],
   "source": [
    "# Правильно\n",
    "b = True\n",
    "if b:\n",
    "    print(\"Yes\")"
   ]
  },
  {
   "cell_type": "code",
   "execution_count": null,
   "metadata": {
    "collapsed": true
   },
   "outputs": [],
   "source": [
    "# Неверно\n",
    "b = True\n",
    "if b == True:\n",
    "    print(\"No\")"
   ]
  },
  {
   "cell_type": "markdown",
   "metadata": {},
   "source": [
    "### Сравнение с None"
   ]
  },
  {
   "cell_type": "markdown",
   "metadata": {},
   "source": [
    "Сравнение с `None` должно осуществляться с помощью операторов `is` и `is not`, а не операторами сравнения."
   ]
  },
  {
   "cell_type": "code",
   "execution_count": null,
   "metadata": {
    "collapsed": true
   },
   "outputs": [],
   "source": [
    "# Правильно\n",
    "if a is None:\n",
    "    pass"
   ]
  },
  {
   "cell_type": "code",
   "execution_count": null,
   "metadata": {
    "collapsed": true
   },
   "outputs": [],
   "source": [
    "# Неверно\n",
    "if a == None:\n",
    "    pass"
   ]
  },
  {
   "cell_type": "markdown",
   "metadata": {},
   "source": [
    "### Сравнение с частью строки"
   ]
  },
  {
   "cell_type": "markdown",
   "metadata": {},
   "source": [
    "Используйте методы `.startswith()` и `.endswith()` вместо срезов для проверки начала и конца строк."
   ]
  },
  {
   "cell_type": "code",
   "execution_count": null,
   "metadata": {
    "collapsed": true
   },
   "outputs": [],
   "source": [
    "# Правильно\n",
    "s = 'Hello, world!'\n",
    "if s.startswith('Hello'):\n",
    "    print('Hi')"
   ]
  },
  {
   "cell_type": "code",
   "execution_count": null,
   "metadata": {
    "collapsed": true
   },
   "outputs": [],
   "source": [
    "# Неверно\n",
    "s = 'Hello, world!'\n",
    "if s[:5] == 'Hello':\n",
    "    print('Hi')"
   ]
  },
  {
   "cell_type": "markdown",
   "metadata": {},
   "source": [
    "## Функции"
   ]
  },
  {
   "cell_type": "markdown",
   "metadata": {},
   "source": [
    "Не ставьте пробелы вокруг знака `=` при передаче функции именованных аргументов."
   ]
  },
  {
   "cell_type": "code",
   "execution_count": null,
   "metadata": {
    "collapsed": true
   },
   "outputs": [],
   "source": [
    "# Правильно\n",
    "f(5, x=7)"
   ]
  },
  {
   "cell_type": "code",
   "execution_count": null,
   "metadata": {
    "collapsed": true
   },
   "outputs": [],
   "source": [
    "# Неверно\n",
    "f(5, x = 7)"
   ]
  },
  {
   "cell_type": "markdown",
   "metadata": {},
   "source": [
    "Разделяйте определения функций двумя пустыми строками."
   ]
  },
  {
   "cell_type": "code",
   "execution_count": null,
   "metadata": {
    "collapsed": true
   },
   "outputs": [],
   "source": [
    "# Правильно\n",
    "def f1():\n",
    "    pass\n",
    "\n",
    "\n",
    "def f2():\n",
    "    pass"
   ]
  },
  {
   "cell_type": "code",
   "execution_count": null,
   "metadata": {
    "collapsed": true
   },
   "outputs": [],
   "source": [
    "# Неверно\n",
    "def f1():\n",
    "    pass\n",
    "\n",
    "def f2():\n",
    "    pass"
   ]
  },
  {
   "cell_type": "markdown",
   "metadata": {},
   "source": [
    "Разделяйте тело функции на логические части одной пустой строкой."
   ]
  },
  {
   "cell_type": "markdown",
   "metadata": {},
   "source": [
    "### Исключения из правил"
   ]
  },
  {
   "cell_type": "markdown",
   "metadata": {},
   "source": [
    "Перечисленные выше правила имеет смысл нарушать в тех случаях, когда следование им понижает читаемость кода даже для людей, привыкших к этим правилам. Трижды подумайте, прежде чем делать это."
   ]
  }
 ],
 "metadata": {
  "kernelspec": {
   "display_name": "Python 3",
   "language": "python",
   "name": "python3"
  },
  "language_info": {
   "codemirror_mode": {
    "name": "ipython",
    "version": 3
   },
   "file_extension": ".py",
   "mimetype": "text/x-python",
   "name": "python",
   "nbconvert_exporter": "python",
   "pygments_lexer": "ipython3",
   "version": "3.5.2"
  },
  "toc": {
   "base_numbering": 1,
   "nav_menu": {},
   "number_sections": false,
   "sideBar": true,
   "skip_h1_title": true,
   "title_cell": "Содержание",
   "title_sidebar": "Содержание",
   "toc_cell": true,
   "toc_position": {
    "height": "calc(100% - 180px)",
    "left": "10px",
    "top": "150px",
    "width": "396px"
   },
   "toc_section_display": true,
   "toc_window_display": true
  }
 },
 "nbformat": 4,
 "nbformat_minor": 2
}
